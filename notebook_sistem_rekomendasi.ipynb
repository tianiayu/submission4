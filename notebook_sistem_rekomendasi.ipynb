{
  "nbformat": 4,
  "nbformat_minor": 0,
  "metadata": {
    "colab": {
      "provenance": []
    },
    "kernelspec": {
      "name": "python3",
      "display_name": "Python 3"
    },
    "language_info": {
      "name": "python"
    }
  },
  "cells": [
    {
      "cell_type": "markdown",
      "source": [
        "# **Import Library**"
      ],
      "metadata": {
        "id": "YD5Bj34ZN3Pi"
      }
    },
    {
      "cell_type": "code",
      "source": [
        "import gdown\n",
        "import zipfile\n",
        "import pandas as pd\n",
        "import os\n",
        "import numpy as np\n",
        "import matplotlib.pyplot as plt\n",
        "import seaborn as sns\n",
        "import tensorflow as tf\n",
        "\n",
        "from tensorflow import keras\n",
        "from tensorflow.keras import layers\n",
        "from sklearn.feature_extraction.text import TfidfVectorizer\n",
        "from sklearn.metrics.pairwise import cosine_similarity\n",
        "from sklearn.model_selection import train_test_split"
      ],
      "metadata": {
        "id": "86nBkJydNk3u"
      },
      "execution_count": null,
      "outputs": []
    },
    {
      "cell_type": "markdown",
      "source": [
        "**Keterangan Proses Import Library:**\n",
        "\n",
        "1. **gdown**: Digunakan untuk mendownload file dari Google Drive.\n",
        "2. **zipfile**: Untuk mengekstrak file ZIP.\n",
        "3. **pandas**: Library utama untuk manipulasi dan analisis data, sering digunakan untuk bekerja dengan data dalam bentuk tabel (DataFrame).\n",
        "4. **os**: Digunakan untuk berinteraksi dengan sistem file dan direktori.\n",
        "5. **numpy**: Digunakan untuk operasi matematika dan array multidimensi.\n",
        "6. **matplotlib.pyplot**: Library untuk membuat visualisasi data berupa grafik atau plot.\n",
        "7. **seaborn**: Library visualisasi yang dibangun di atas Matplotlib, digunakan untuk membuat plot statistik yang lebih estetis.\n",
        "8. **tensorflow**: Library untuk membangun dan melatih model deep learning, digunakan untuk implementasi model rekomendasi berbasis neural network.\n",
        "9. **tensorflow.keras**: Sub-library dari TensorFlow yang menyediakan API untuk membangun dan melatih model neural network.\n",
        "10. **sklearn.feature_extraction.text**: Digunakan untuk ekstraksi fitur teks, seperti mengubah teks menjadi representasi numerik menggunakan TF-IDF.\n",
        "11. **sklearn.metrics.pairwise**: Digunakan untuk menghitung kemiripan antar objek, seperti menghitung **cosine similarity**.\n",
        "12. **sklearn.model_selection**: Digunakan untuk membagi data menjadi data latih dan data uji (train-test split)."
      ],
      "metadata": {
        "id": "wGu0g5JtKhHF"
      }
    },
    {
      "cell_type": "markdown",
      "source": [
        "# **Load Dataset**"
      ],
      "metadata": {
        "id": "wpJEgoaWOBtS"
      }
    },
    {
      "cell_type": "code",
      "source": [
        "#membaca dataset https://drive.google.com/file/d/13JBbtb9BF96w7VWxgnwK0CdrLWwyQlPo/view?usp=sharing\n",
        "file_id = \"13JBbtb9BF96w7VWxgnwK0CdrLWwyQlPo\"\n",
        "url = f\"https://drive.google.com/uc?id={file_id}\"\n",
        "output = \"dataset.zip\"\n",
        "\n",
        "gdown.download(url, output, quiet=False)"
      ],
      "metadata": {
        "id": "3aPLego1NllB",
        "colab": {
          "base_uri": "https://localhost:8080/",
          "height": 105
        },
        "outputId": "5f574234-53e4-4023-a0a2-3df4b218e83b"
      },
      "execution_count": null,
      "outputs": [
        {
          "output_type": "stream",
          "name": "stderr",
          "text": [
            "Downloading...\n",
            "From: https://drive.google.com/uc?id=13JBbtb9BF96w7VWxgnwK0CdrLWwyQlPo\n",
            "To: /content/dataset.zip\n",
            "100%|██████████| 162k/162k [00:00<00:00, 71.3MB/s]\n"
          ]
        },
        {
          "output_type": "execute_result",
          "data": {
            "text/plain": [
              "'dataset.zip'"
            ],
            "application/vnd.google.colaboratory.intrinsic+json": {
              "type": "string"
            }
          },
          "metadata": {},
          "execution_count": 4
        }
      ]
    },
    {
      "cell_type": "markdown",
      "source": [
        "Pada bagian ini, kita akan mengunduh dataset yang dibagikan melalui Google Drive. Dataset ini berisi data gambar yang digunakan dalam proses pelatihan dan pengujian model klasifikasi gender berbasis CNN.\n",
        "- file_id adalah ID file Google Drive yang diperoleh dari URL berbagi.\n",
        "- url dibuat dengan mengonversi ID file ke format URL langsung yang bisa digunakan oleh gdown.\n",
        "- output adalah nama file output yang akan disimpan secara lokal setelah proses pengunduhan selesai.\n",
        "- gdown.download() digunakan untuk mengunduh file dari Google Drive berdasarkan URL yang telah disusun."
      ],
      "metadata": {
        "id": "HONPr8EZizEw"
      }
    },
    {
      "cell_type": "code",
      "source": [
        "!unzip dataset.zip"
      ],
      "metadata": {
        "colab": {
          "base_uri": "https://localhost:8080/"
        },
        "id": "QrGSEsLp9PeJ",
        "outputId": "cd8ace1a-def8-4af9-9266-76e53f7244a0"
      },
      "execution_count": null,
      "outputs": [
        {
          "output_type": "stream",
          "name": "stdout",
          "text": [
            "Archive:  dataset.zip\n",
            "  inflating: package_tourism.csv     \n",
            "  inflating: tourism_rating.csv      \n",
            "  inflating: tourism_with_id.csv     \n",
            "  inflating: user.csv                \n"
          ]
        }
      ]
    },
    {
      "cell_type": "markdown",
      "source": [
        "Setelah proses pengunduhan selesai, langkah selanjutnya adalah mengekstrak file dataset.zip agar data di dalamnya dapat diakses dan digunakan.\n",
        "\n",
        "- Perintah !unzip dataset.zip digunakan untuk mengekstrak isi file ZIP di direktori kerja saat ini.\n",
        "- Simbol ! menunjukkan bahwa perintah ini dieksekusi sebagai perintah sistem (shell) di dalam Jupyter Notebook.\n",
        "\n",
        "Setelah proses ekstraksi berhasil, file dataset.zip menghasilkan empat file CSV berikut:\n",
        "- package_tourism.csv — berisi informasi mengenai paket-paket wisata yang tersedia.\n",
        "- tourism_rating.csv — berisi data rating atau penilaian pengguna terhadap destinasi wisata.\n",
        "- tourism_with_id.csv — berisi data destinasi wisata yang telah diberi ID unik.\n",
        "- user.csv — berisi informasi pengguna yang mungkin digunakan dalam analisis perilaku atau preferensi.\n",
        "\n",
        "Keempat file ini akan digunakan dalam proses eksplorasi data, analisis, atau pelatihan model selanjutnya."
      ],
      "metadata": {
        "id": "J1h07BPwjS5f"
      }
    },
    {
      "cell_type": "code",
      "source": [
        "packagetourism = pd.read_csv('/content/package_tourism.csv')\n",
        "tourismrating = pd.read_csv('/content/tourism_rating.csv')\n",
        "tourismwithid = pd.read_csv('/content/tourism_with_id.csv')\n",
        "user = pd.read_csv('/content/user.csv')\n",
        "\n",
        "print('Jumlah paket wisata: ', len(packagetourism.Package.unique()))\n",
        "print('Jumlah data penilaian yang diberikan pengguna: ', len(tourismrating.Place_Id.unique()))\n",
        "print('Jumlah detail tempat wisata: ', len(tourismwithid.Place_Id.unique()))\n",
        "print('Jumlah data pengguna: ', len(user.User_Id.unique()))"
      ],
      "metadata": {
        "colab": {
          "base_uri": "https://localhost:8080/"
        },
        "id": "q3RSrb2Yigal",
        "outputId": "93329dfe-5054-44e0-d1c6-9e293357a38c"
      },
      "execution_count": null,
      "outputs": [
        {
          "output_type": "stream",
          "name": "stdout",
          "text": [
            "Jumlah paket wisata:  100\n",
            "Jumlah data penilaian yang diberikan pengguna:  437\n",
            "Jumlah detail tempat wisata:  437\n",
            "Jumlah data pengguna:  300\n"
          ]
        }
      ]
    },
    {
      "cell_type": "markdown",
      "source": [
        "Pada bagian ini, kita akan membaca file CSV yang telah diekstrak sebelumnya ke dalam DataFrame menggunakan pandas. Setelah membaca semua dataset, ditampilkan juga informasi statistik dasar:\n",
        "- Jumlah paket wisata unik: 100 paket\n",
        "- Jumlah tempat wisata yang dinilai oleh pengguna: 437 tempat\n",
        "- Jumlah detail tempat wisata dengan ID unik: 437 tempat\n",
        "- Jumlah pengguna unik yang memberikan penilaian: 300 pengguna\n",
        "\n",
        "Informasi ini memberikan gambaran awal mengenai cakupan dan skala data yang akan digunakan dalam proses analisis selanjutnya."
      ],
      "metadata": {
        "id": "ptVS1CyXkFic"
      }
    },
    {
      "cell_type": "markdown",
      "source": [
        "# **Exploratory Data Analysis**"
      ],
      "metadata": {
        "id": "FXxGtZMoOO05"
      }
    },
    {
      "cell_type": "code",
      "source": [
        "packagetourism.info()\n",
        "packagetourism.head()"
      ],
      "metadata": {
        "id": "a54cJdRbOOf6",
        "colab": {
          "base_uri": "https://localhost:8080/",
          "height": 536
        },
        "outputId": "370c410d-004a-462f-a48f-25b2430883dd"
      },
      "execution_count": null,
      "outputs": [
        {
          "output_type": "stream",
          "name": "stdout",
          "text": [
            "<class 'pandas.core.frame.DataFrame'>\n",
            "RangeIndex: 100 entries, 0 to 99\n",
            "Data columns (total 7 columns):\n",
            " #   Column          Non-Null Count  Dtype \n",
            "---  ------          --------------  ----- \n",
            " 0   Package         100 non-null    int64 \n",
            " 1   City            100 non-null    object\n",
            " 2   Place_Tourism1  100 non-null    object\n",
            " 3   Place_Tourism2  100 non-null    object\n",
            " 4   Place_Tourism3  100 non-null    object\n",
            " 5   Place_Tourism4  66 non-null     object\n",
            " 6   Place_Tourism5  39 non-null     object\n",
            "dtypes: int64(1), object(6)\n",
            "memory usage: 5.6+ KB\n"
          ]
        },
        {
          "output_type": "execute_result",
          "data": {
            "text/plain": [
              "   Package     City         Place_Tourism1      Place_Tourism2  \\\n",
              "0        1  Jakarta      Pasar Tanah Abang        Taman Ayodya   \n",
              "1        2  Jakarta      Pasar Tanah Abang  Pasar Taman Puring   \n",
              "2        3  Jakarta  Perpustakaan Nasional               Monas   \n",
              "3        4  Jakarta           Pulau Tidung      Pulau Bidadari   \n",
              "4        5  Jakarta  Museum Satria Mandala       Museum Wayang   \n",
              "\n",
              "          Place_Tourism3                                     Place_Tourism4  \\\n",
              "0         Museum Tekstil                                                NaN   \n",
              "1   Pasar Petak Sembilan                                                NaN   \n",
              "2        Masjid Istiqlal                                                NaN   \n",
              "3             Pulau Pari                                      Pulau Pramuka   \n",
              "4  Museum Bahari Jakarta  Museum Macan (Modern and Contemporary Art in N...   \n",
              "\n",
              "  Place_Tourism5  \n",
              "0            NaN  \n",
              "1            NaN  \n",
              "2            NaN  \n",
              "3  Pulau Pelangi  \n",
              "4            NaN  "
            ],
            "text/html": [
              "\n",
              "  <div id=\"df-342603df-a34a-4081-88de-9f4dd55e1805\" class=\"colab-df-container\">\n",
              "    <div>\n",
              "<style scoped>\n",
              "    .dataframe tbody tr th:only-of-type {\n",
              "        vertical-align: middle;\n",
              "    }\n",
              "\n",
              "    .dataframe tbody tr th {\n",
              "        vertical-align: top;\n",
              "    }\n",
              "\n",
              "    .dataframe thead th {\n",
              "        text-align: right;\n",
              "    }\n",
              "</style>\n",
              "<table border=\"1\" class=\"dataframe\">\n",
              "  <thead>\n",
              "    <tr style=\"text-align: right;\">\n",
              "      <th></th>\n",
              "      <th>Package</th>\n",
              "      <th>City</th>\n",
              "      <th>Place_Tourism1</th>\n",
              "      <th>Place_Tourism2</th>\n",
              "      <th>Place_Tourism3</th>\n",
              "      <th>Place_Tourism4</th>\n",
              "      <th>Place_Tourism5</th>\n",
              "    </tr>\n",
              "  </thead>\n",
              "  <tbody>\n",
              "    <tr>\n",
              "      <th>0</th>\n",
              "      <td>1</td>\n",
              "      <td>Jakarta</td>\n",
              "      <td>Pasar Tanah Abang</td>\n",
              "      <td>Taman Ayodya</td>\n",
              "      <td>Museum Tekstil</td>\n",
              "      <td>NaN</td>\n",
              "      <td>NaN</td>\n",
              "    </tr>\n",
              "    <tr>\n",
              "      <th>1</th>\n",
              "      <td>2</td>\n",
              "      <td>Jakarta</td>\n",
              "      <td>Pasar Tanah Abang</td>\n",
              "      <td>Pasar Taman Puring</td>\n",
              "      <td>Pasar Petak Sembilan</td>\n",
              "      <td>NaN</td>\n",
              "      <td>NaN</td>\n",
              "    </tr>\n",
              "    <tr>\n",
              "      <th>2</th>\n",
              "      <td>3</td>\n",
              "      <td>Jakarta</td>\n",
              "      <td>Perpustakaan Nasional</td>\n",
              "      <td>Monas</td>\n",
              "      <td>Masjid Istiqlal</td>\n",
              "      <td>NaN</td>\n",
              "      <td>NaN</td>\n",
              "    </tr>\n",
              "    <tr>\n",
              "      <th>3</th>\n",
              "      <td>4</td>\n",
              "      <td>Jakarta</td>\n",
              "      <td>Pulau Tidung</td>\n",
              "      <td>Pulau Bidadari</td>\n",
              "      <td>Pulau Pari</td>\n",
              "      <td>Pulau Pramuka</td>\n",
              "      <td>Pulau Pelangi</td>\n",
              "    </tr>\n",
              "    <tr>\n",
              "      <th>4</th>\n",
              "      <td>5</td>\n",
              "      <td>Jakarta</td>\n",
              "      <td>Museum Satria Mandala</td>\n",
              "      <td>Museum Wayang</td>\n",
              "      <td>Museum Bahari Jakarta</td>\n",
              "      <td>Museum Macan (Modern and Contemporary Art in N...</td>\n",
              "      <td>NaN</td>\n",
              "    </tr>\n",
              "  </tbody>\n",
              "</table>\n",
              "</div>\n",
              "    <div class=\"colab-df-buttons\">\n",
              "\n",
              "  <div class=\"colab-df-container\">\n",
              "    <button class=\"colab-df-convert\" onclick=\"convertToInteractive('df-342603df-a34a-4081-88de-9f4dd55e1805')\"\n",
              "            title=\"Convert this dataframe to an interactive table.\"\n",
              "            style=\"display:none;\">\n",
              "\n",
              "  <svg xmlns=\"http://www.w3.org/2000/svg\" height=\"24px\" viewBox=\"0 -960 960 960\">\n",
              "    <path d=\"M120-120v-720h720v720H120Zm60-500h600v-160H180v160Zm220 220h160v-160H400v160Zm0 220h160v-160H400v160ZM180-400h160v-160H180v160Zm440 0h160v-160H620v160ZM180-180h160v-160H180v160Zm440 0h160v-160H620v160Z\"/>\n",
              "  </svg>\n",
              "    </button>\n",
              "\n",
              "  <style>\n",
              "    .colab-df-container {\n",
              "      display:flex;\n",
              "      gap: 12px;\n",
              "    }\n",
              "\n",
              "    .colab-df-convert {\n",
              "      background-color: #E8F0FE;\n",
              "      border: none;\n",
              "      border-radius: 50%;\n",
              "      cursor: pointer;\n",
              "      display: none;\n",
              "      fill: #1967D2;\n",
              "      height: 32px;\n",
              "      padding: 0 0 0 0;\n",
              "      width: 32px;\n",
              "    }\n",
              "\n",
              "    .colab-df-convert:hover {\n",
              "      background-color: #E2EBFA;\n",
              "      box-shadow: 0px 1px 2px rgba(60, 64, 67, 0.3), 0px 1px 3px 1px rgba(60, 64, 67, 0.15);\n",
              "      fill: #174EA6;\n",
              "    }\n",
              "\n",
              "    .colab-df-buttons div {\n",
              "      margin-bottom: 4px;\n",
              "    }\n",
              "\n",
              "    [theme=dark] .colab-df-convert {\n",
              "      background-color: #3B4455;\n",
              "      fill: #D2E3FC;\n",
              "    }\n",
              "\n",
              "    [theme=dark] .colab-df-convert:hover {\n",
              "      background-color: #434B5C;\n",
              "      box-shadow: 0px 1px 3px 1px rgba(0, 0, 0, 0.15);\n",
              "      filter: drop-shadow(0px 1px 2px rgba(0, 0, 0, 0.3));\n",
              "      fill: #FFFFFF;\n",
              "    }\n",
              "  </style>\n",
              "\n",
              "    <script>\n",
              "      const buttonEl =\n",
              "        document.querySelector('#df-342603df-a34a-4081-88de-9f4dd55e1805 button.colab-df-convert');\n",
              "      buttonEl.style.display =\n",
              "        google.colab.kernel.accessAllowed ? 'block' : 'none';\n",
              "\n",
              "      async function convertToInteractive(key) {\n",
              "        const element = document.querySelector('#df-342603df-a34a-4081-88de-9f4dd55e1805');\n",
              "        const dataTable =\n",
              "          await google.colab.kernel.invokeFunction('convertToInteractive',\n",
              "                                                    [key], {});\n",
              "        if (!dataTable) return;\n",
              "\n",
              "        const docLinkHtml = 'Like what you see? Visit the ' +\n",
              "          '<a target=\"_blank\" href=https://colab.research.google.com/notebooks/data_table.ipynb>data table notebook</a>'\n",
              "          + ' to learn more about interactive tables.';\n",
              "        element.innerHTML = '';\n",
              "        dataTable['output_type'] = 'display_data';\n",
              "        await google.colab.output.renderOutput(dataTable, element);\n",
              "        const docLink = document.createElement('div');\n",
              "        docLink.innerHTML = docLinkHtml;\n",
              "        element.appendChild(docLink);\n",
              "      }\n",
              "    </script>\n",
              "  </div>\n",
              "\n",
              "\n",
              "    <div id=\"df-7f97cf54-f406-4f10-b477-20f6142a5ecd\">\n",
              "      <button class=\"colab-df-quickchart\" onclick=\"quickchart('df-7f97cf54-f406-4f10-b477-20f6142a5ecd')\"\n",
              "                title=\"Suggest charts\"\n",
              "                style=\"display:none;\">\n",
              "\n",
              "<svg xmlns=\"http://www.w3.org/2000/svg\" height=\"24px\"viewBox=\"0 0 24 24\"\n",
              "     width=\"24px\">\n",
              "    <g>\n",
              "        <path d=\"M19 3H5c-1.1 0-2 .9-2 2v14c0 1.1.9 2 2 2h14c1.1 0 2-.9 2-2V5c0-1.1-.9-2-2-2zM9 17H7v-7h2v7zm4 0h-2V7h2v10zm4 0h-2v-4h2v4z\"/>\n",
              "    </g>\n",
              "</svg>\n",
              "      </button>\n",
              "\n",
              "<style>\n",
              "  .colab-df-quickchart {\n",
              "      --bg-color: #E8F0FE;\n",
              "      --fill-color: #1967D2;\n",
              "      --hover-bg-color: #E2EBFA;\n",
              "      --hover-fill-color: #174EA6;\n",
              "      --disabled-fill-color: #AAA;\n",
              "      --disabled-bg-color: #DDD;\n",
              "  }\n",
              "\n",
              "  [theme=dark] .colab-df-quickchart {\n",
              "      --bg-color: #3B4455;\n",
              "      --fill-color: #D2E3FC;\n",
              "      --hover-bg-color: #434B5C;\n",
              "      --hover-fill-color: #FFFFFF;\n",
              "      --disabled-bg-color: #3B4455;\n",
              "      --disabled-fill-color: #666;\n",
              "  }\n",
              "\n",
              "  .colab-df-quickchart {\n",
              "    background-color: var(--bg-color);\n",
              "    border: none;\n",
              "    border-radius: 50%;\n",
              "    cursor: pointer;\n",
              "    display: none;\n",
              "    fill: var(--fill-color);\n",
              "    height: 32px;\n",
              "    padding: 0;\n",
              "    width: 32px;\n",
              "  }\n",
              "\n",
              "  .colab-df-quickchart:hover {\n",
              "    background-color: var(--hover-bg-color);\n",
              "    box-shadow: 0 1px 2px rgba(60, 64, 67, 0.3), 0 1px 3px 1px rgba(60, 64, 67, 0.15);\n",
              "    fill: var(--button-hover-fill-color);\n",
              "  }\n",
              "\n",
              "  .colab-df-quickchart-complete:disabled,\n",
              "  .colab-df-quickchart-complete:disabled:hover {\n",
              "    background-color: var(--disabled-bg-color);\n",
              "    fill: var(--disabled-fill-color);\n",
              "    box-shadow: none;\n",
              "  }\n",
              "\n",
              "  .colab-df-spinner {\n",
              "    border: 2px solid var(--fill-color);\n",
              "    border-color: transparent;\n",
              "    border-bottom-color: var(--fill-color);\n",
              "    animation:\n",
              "      spin 1s steps(1) infinite;\n",
              "  }\n",
              "\n",
              "  @keyframes spin {\n",
              "    0% {\n",
              "      border-color: transparent;\n",
              "      border-bottom-color: var(--fill-color);\n",
              "      border-left-color: var(--fill-color);\n",
              "    }\n",
              "    20% {\n",
              "      border-color: transparent;\n",
              "      border-left-color: var(--fill-color);\n",
              "      border-top-color: var(--fill-color);\n",
              "    }\n",
              "    30% {\n",
              "      border-color: transparent;\n",
              "      border-left-color: var(--fill-color);\n",
              "      border-top-color: var(--fill-color);\n",
              "      border-right-color: var(--fill-color);\n",
              "    }\n",
              "    40% {\n",
              "      border-color: transparent;\n",
              "      border-right-color: var(--fill-color);\n",
              "      border-top-color: var(--fill-color);\n",
              "    }\n",
              "    60% {\n",
              "      border-color: transparent;\n",
              "      border-right-color: var(--fill-color);\n",
              "    }\n",
              "    80% {\n",
              "      border-color: transparent;\n",
              "      border-right-color: var(--fill-color);\n",
              "      border-bottom-color: var(--fill-color);\n",
              "    }\n",
              "    90% {\n",
              "      border-color: transparent;\n",
              "      border-bottom-color: var(--fill-color);\n",
              "    }\n",
              "  }\n",
              "</style>\n",
              "\n",
              "      <script>\n",
              "        async function quickchart(key) {\n",
              "          const quickchartButtonEl =\n",
              "            document.querySelector('#' + key + ' button');\n",
              "          quickchartButtonEl.disabled = true;  // To prevent multiple clicks.\n",
              "          quickchartButtonEl.classList.add('colab-df-spinner');\n",
              "          try {\n",
              "            const charts = await google.colab.kernel.invokeFunction(\n",
              "                'suggestCharts', [key], {});\n",
              "          } catch (error) {\n",
              "            console.error('Error during call to suggestCharts:', error);\n",
              "          }\n",
              "          quickchartButtonEl.classList.remove('colab-df-spinner');\n",
              "          quickchartButtonEl.classList.add('colab-df-quickchart-complete');\n",
              "        }\n",
              "        (() => {\n",
              "          let quickchartButtonEl =\n",
              "            document.querySelector('#df-7f97cf54-f406-4f10-b477-20f6142a5ecd button');\n",
              "          quickchartButtonEl.style.display =\n",
              "            google.colab.kernel.accessAllowed ? 'block' : 'none';\n",
              "        })();\n",
              "      </script>\n",
              "    </div>\n",
              "\n",
              "    </div>\n",
              "  </div>\n"
            ],
            "application/vnd.google.colaboratory.intrinsic+json": {
              "type": "dataframe",
              "variable_name": "packagetourism",
              "summary": "{\n  \"name\": \"packagetourism\",\n  \"rows\": 100,\n  \"fields\": [\n    {\n      \"column\": \"Package\",\n      \"properties\": {\n        \"dtype\": \"number\",\n        \"std\": 29,\n        \"min\": 1,\n        \"max\": 100,\n        \"num_unique_values\": 100,\n        \"samples\": [\n          84,\n          54,\n          71\n        ],\n        \"semantic_type\": \"\",\n        \"description\": \"\"\n      }\n    },\n    {\n      \"column\": \"City\",\n      \"properties\": {\n        \"dtype\": \"category\",\n        \"num_unique_values\": 5,\n        \"samples\": [\n          \"Yogyakarta\",\n          \"Surabaya\",\n          \"Bandung\"\n        ],\n        \"semantic_type\": \"\",\n        \"description\": \"\"\n      }\n    },\n    {\n      \"column\": \"Place_Tourism1\",\n      \"properties\": {\n        \"dtype\": \"string\",\n        \"num_unique_values\": 89,\n        \"samples\": [\n          \"Caringin Tilu\",\n          \"Museum Gedung Sate\",\n          \"Desa Wisata Sungai Code Jogja Kota\"\n        ],\n        \"semantic_type\": \"\",\n        \"description\": \"\"\n      }\n    },\n    {\n      \"column\": \"Place_Tourism2\",\n      \"properties\": {\n        \"dtype\": \"string\",\n        \"num_unique_values\": 93,\n        \"samples\": [\n          \"Museum Sri Baduga\",\n          \"Pantai Nglambor\",\n          \"Lembang Park & Zoo\"\n        ],\n        \"semantic_type\": \"\",\n        \"description\": \"\"\n      }\n    },\n    {\n      \"column\": \"Place_Tourism3\",\n      \"properties\": {\n        \"dtype\": \"string\",\n        \"num_unique_values\": 92,\n        \"samples\": [\n          \"Museum Mandala Wangsit Siliwangi\",\n          \"Sindu Kusuma Edupark (SKE)\",\n          \"Sam Poo Kong Temple\"\n        ],\n        \"semantic_type\": \"\",\n        \"description\": \"\"\n      }\n    },\n    {\n      \"column\": \"Place_Tourism4\",\n      \"properties\": {\n        \"dtype\": \"string\",\n        \"num_unique_values\": 61,\n        \"samples\": [\n          \"Pulau Pramuka\",\n          \"Pasar Petak Sembilan\",\n          \"Pantai Cipta\"\n        ],\n        \"semantic_type\": \"\",\n        \"description\": \"\"\n      }\n    },\n    {\n      \"column\": \"Place_Tourism5\",\n      \"properties\": {\n        \"dtype\": \"category\",\n        \"num_unique_values\": 38,\n        \"samples\": [\n          \"Museum De Javasche Bank\",\n          \"Taman Air Mancur Menari Kenjeran\",\n          \"Museum Perangko\"\n        ],\n        \"semantic_type\": \"\",\n        \"description\": \"\"\n      }\n    }\n  ]\n}"
            }
          },
          "metadata": {},
          "execution_count": 7
        }
      ]
    },
    {
      "cell_type": "markdown",
      "source": [
        "Langkah ini bertujuan untuk memahami struktur dan isi awal dari dataset package_tourism.csv yang telah dimuat ke dalam variabel packagetourism.\n",
        "- packagetourism.info() digunakan untuk menampilkan informasi struktur DataFrame, termasuk:\n",
        "  - Jumlah total entri (100 entri).\n",
        "  - Nama kolom, jumlah data non-null pada setiap kolom, dan tipe datanya.\n",
        "  - Terlihat bahwa kolom Place_Tourism4 dan Place_Tourism5 memiliki data yang tidak lengkap (masing-masing hanya 66 dan 39 nilai yang tidak null), yang menunjukkan bahwa beberapa paket wisata hanya mencakup 3 atau 4 tempat wisata.\n",
        "\n",
        "- packagetourism.head() digunakan untuk menampilkan 5 baris pertama dari dataset agar bisa diamati secara langsung isi datanya.\n",
        "\n",
        "  - Setiap baris merepresentasikan satu paket wisata dengan nama kota dan hingga lima tempat tujuan wisata yang tercantum dalam satu paket.\n",
        "\n",
        "Hasil ini membantu dalam memahami skema dan kelengkapan data sebelum dilakukan pembersihan atau analisis lebih lanjut."
      ],
      "metadata": {
        "id": "okTcO1F-ki9x"
      }
    },
    {
      "cell_type": "code",
      "source": [
        "packagetourism.isnull().sum()"
      ],
      "metadata": {
        "colab": {
          "base_uri": "https://localhost:8080/",
          "height": 304
        },
        "id": "HI4HLbrMO-Yy",
        "outputId": "9ba20e4e-c4f2-4345-c69e-a7ea40f8a9d6"
      },
      "execution_count": null,
      "outputs": [
        {
          "output_type": "execute_result",
          "data": {
            "text/plain": [
              "Package            0\n",
              "City               0\n",
              "Place_Tourism1     0\n",
              "Place_Tourism2     0\n",
              "Place_Tourism3     0\n",
              "Place_Tourism4    34\n",
              "Place_Tourism5    61\n",
              "dtype: int64"
            ],
            "text/html": [
              "<div>\n",
              "<style scoped>\n",
              "    .dataframe tbody tr th:only-of-type {\n",
              "        vertical-align: middle;\n",
              "    }\n",
              "\n",
              "    .dataframe tbody tr th {\n",
              "        vertical-align: top;\n",
              "    }\n",
              "\n",
              "    .dataframe thead th {\n",
              "        text-align: right;\n",
              "    }\n",
              "</style>\n",
              "<table border=\"1\" class=\"dataframe\">\n",
              "  <thead>\n",
              "    <tr style=\"text-align: right;\">\n",
              "      <th></th>\n",
              "      <th>0</th>\n",
              "    </tr>\n",
              "  </thead>\n",
              "  <tbody>\n",
              "    <tr>\n",
              "      <th>Package</th>\n",
              "      <td>0</td>\n",
              "    </tr>\n",
              "    <tr>\n",
              "      <th>City</th>\n",
              "      <td>0</td>\n",
              "    </tr>\n",
              "    <tr>\n",
              "      <th>Place_Tourism1</th>\n",
              "      <td>0</td>\n",
              "    </tr>\n",
              "    <tr>\n",
              "      <th>Place_Tourism2</th>\n",
              "      <td>0</td>\n",
              "    </tr>\n",
              "    <tr>\n",
              "      <th>Place_Tourism3</th>\n",
              "      <td>0</td>\n",
              "    </tr>\n",
              "    <tr>\n",
              "      <th>Place_Tourism4</th>\n",
              "      <td>34</td>\n",
              "    </tr>\n",
              "    <tr>\n",
              "      <th>Place_Tourism5</th>\n",
              "      <td>61</td>\n",
              "    </tr>\n",
              "  </tbody>\n",
              "</table>\n",
              "</div><br><label><b>dtype:</b> int64</label>"
            ]
          },
          "metadata": {},
          "execution_count": 8
        }
      ]
    },
    {
      "cell_type": "markdown",
      "source": [
        "pada packagetourism terdapat 100 data, berisi data paket wisata dengan kombinasi tempat wisata di beberapa kota. Kolom Place_Tourism4 dan Place_Tourism5 memiliki missing values."
      ],
      "metadata": {
        "id": "TNEVEW4zPMtC"
      }
    },
    {
      "cell_type": "code",
      "source": [
        "tourismrating.info()\n",
        "tourismrating.describe()"
      ],
      "metadata": {
        "colab": {
          "base_uri": "https://localhost:8080/",
          "height": 474
        },
        "id": "NrAnxBzU25Tp",
        "outputId": "4e51da48-9632-4e44-e4a3-ead27ba5e895"
      },
      "execution_count": null,
      "outputs": [
        {
          "output_type": "stream",
          "name": "stdout",
          "text": [
            "<class 'pandas.core.frame.DataFrame'>\n",
            "RangeIndex: 10000 entries, 0 to 9999\n",
            "Data columns (total 3 columns):\n",
            " #   Column         Non-Null Count  Dtype\n",
            "---  ------         --------------  -----\n",
            " 0   User_Id        10000 non-null  int64\n",
            " 1   Place_Id       10000 non-null  int64\n",
            " 2   Place_Ratings  10000 non-null  int64\n",
            "dtypes: int64(3)\n",
            "memory usage: 234.5 KB\n"
          ]
        },
        {
          "output_type": "execute_result",
          "data": {
            "text/plain": [
              "            User_Id      Place_Id  Place_Ratings\n",
              "count  10000.000000  10000.000000   10000.000000\n",
              "mean     151.292700    219.416400       3.066500\n",
              "std       86.137374    126.228335       1.379952\n",
              "min        1.000000      1.000000       1.000000\n",
              "25%       77.000000    108.750000       2.000000\n",
              "50%      151.000000    220.000000       3.000000\n",
              "75%      226.000000    329.000000       4.000000\n",
              "max      300.000000    437.000000       5.000000"
            ],
            "text/html": [
              "\n",
              "  <div id=\"df-545d4dc0-9db8-4ffd-bd81-f625b02dbb30\" class=\"colab-df-container\">\n",
              "    <div>\n",
              "<style scoped>\n",
              "    .dataframe tbody tr th:only-of-type {\n",
              "        vertical-align: middle;\n",
              "    }\n",
              "\n",
              "    .dataframe tbody tr th {\n",
              "        vertical-align: top;\n",
              "    }\n",
              "\n",
              "    .dataframe thead th {\n",
              "        text-align: right;\n",
              "    }\n",
              "</style>\n",
              "<table border=\"1\" class=\"dataframe\">\n",
              "  <thead>\n",
              "    <tr style=\"text-align: right;\">\n",
              "      <th></th>\n",
              "      <th>User_Id</th>\n",
              "      <th>Place_Id</th>\n",
              "      <th>Place_Ratings</th>\n",
              "    </tr>\n",
              "  </thead>\n",
              "  <tbody>\n",
              "    <tr>\n",
              "      <th>count</th>\n",
              "      <td>10000.000000</td>\n",
              "      <td>10000.000000</td>\n",
              "      <td>10000.000000</td>\n",
              "    </tr>\n",
              "    <tr>\n",
              "      <th>mean</th>\n",
              "      <td>151.292700</td>\n",
              "      <td>219.416400</td>\n",
              "      <td>3.066500</td>\n",
              "    </tr>\n",
              "    <tr>\n",
              "      <th>std</th>\n",
              "      <td>86.137374</td>\n",
              "      <td>126.228335</td>\n",
              "      <td>1.379952</td>\n",
              "    </tr>\n",
              "    <tr>\n",
              "      <th>min</th>\n",
              "      <td>1.000000</td>\n",
              "      <td>1.000000</td>\n",
              "      <td>1.000000</td>\n",
              "    </tr>\n",
              "    <tr>\n",
              "      <th>25%</th>\n",
              "      <td>77.000000</td>\n",
              "      <td>108.750000</td>\n",
              "      <td>2.000000</td>\n",
              "    </tr>\n",
              "    <tr>\n",
              "      <th>50%</th>\n",
              "      <td>151.000000</td>\n",
              "      <td>220.000000</td>\n",
              "      <td>3.000000</td>\n",
              "    </tr>\n",
              "    <tr>\n",
              "      <th>75%</th>\n",
              "      <td>226.000000</td>\n",
              "      <td>329.000000</td>\n",
              "      <td>4.000000</td>\n",
              "    </tr>\n",
              "    <tr>\n",
              "      <th>max</th>\n",
              "      <td>300.000000</td>\n",
              "      <td>437.000000</td>\n",
              "      <td>5.000000</td>\n",
              "    </tr>\n",
              "  </tbody>\n",
              "</table>\n",
              "</div>\n",
              "    <div class=\"colab-df-buttons\">\n",
              "\n",
              "  <div class=\"colab-df-container\">\n",
              "    <button class=\"colab-df-convert\" onclick=\"convertToInteractive('df-545d4dc0-9db8-4ffd-bd81-f625b02dbb30')\"\n",
              "            title=\"Convert this dataframe to an interactive table.\"\n",
              "            style=\"display:none;\">\n",
              "\n",
              "  <svg xmlns=\"http://www.w3.org/2000/svg\" height=\"24px\" viewBox=\"0 -960 960 960\">\n",
              "    <path d=\"M120-120v-720h720v720H120Zm60-500h600v-160H180v160Zm220 220h160v-160H400v160Zm0 220h160v-160H400v160ZM180-400h160v-160H180v160Zm440 0h160v-160H620v160ZM180-180h160v-160H180v160Zm440 0h160v-160H620v160Z\"/>\n",
              "  </svg>\n",
              "    </button>\n",
              "\n",
              "  <style>\n",
              "    .colab-df-container {\n",
              "      display:flex;\n",
              "      gap: 12px;\n",
              "    }\n",
              "\n",
              "    .colab-df-convert {\n",
              "      background-color: #E8F0FE;\n",
              "      border: none;\n",
              "      border-radius: 50%;\n",
              "      cursor: pointer;\n",
              "      display: none;\n",
              "      fill: #1967D2;\n",
              "      height: 32px;\n",
              "      padding: 0 0 0 0;\n",
              "      width: 32px;\n",
              "    }\n",
              "\n",
              "    .colab-df-convert:hover {\n",
              "      background-color: #E2EBFA;\n",
              "      box-shadow: 0px 1px 2px rgba(60, 64, 67, 0.3), 0px 1px 3px 1px rgba(60, 64, 67, 0.15);\n",
              "      fill: #174EA6;\n",
              "    }\n",
              "\n",
              "    .colab-df-buttons div {\n",
              "      margin-bottom: 4px;\n",
              "    }\n",
              "\n",
              "    [theme=dark] .colab-df-convert {\n",
              "      background-color: #3B4455;\n",
              "      fill: #D2E3FC;\n",
              "    }\n",
              "\n",
              "    [theme=dark] .colab-df-convert:hover {\n",
              "      background-color: #434B5C;\n",
              "      box-shadow: 0px 1px 3px 1px rgba(0, 0, 0, 0.15);\n",
              "      filter: drop-shadow(0px 1px 2px rgba(0, 0, 0, 0.3));\n",
              "      fill: #FFFFFF;\n",
              "    }\n",
              "  </style>\n",
              "\n",
              "    <script>\n",
              "      const buttonEl =\n",
              "        document.querySelector('#df-545d4dc0-9db8-4ffd-bd81-f625b02dbb30 button.colab-df-convert');\n",
              "      buttonEl.style.display =\n",
              "        google.colab.kernel.accessAllowed ? 'block' : 'none';\n",
              "\n",
              "      async function convertToInteractive(key) {\n",
              "        const element = document.querySelector('#df-545d4dc0-9db8-4ffd-bd81-f625b02dbb30');\n",
              "        const dataTable =\n",
              "          await google.colab.kernel.invokeFunction('convertToInteractive',\n",
              "                                                    [key], {});\n",
              "        if (!dataTable) return;\n",
              "\n",
              "        const docLinkHtml = 'Like what you see? Visit the ' +\n",
              "          '<a target=\"_blank\" href=https://colab.research.google.com/notebooks/data_table.ipynb>data table notebook</a>'\n",
              "          + ' to learn more about interactive tables.';\n",
              "        element.innerHTML = '';\n",
              "        dataTable['output_type'] = 'display_data';\n",
              "        await google.colab.output.renderOutput(dataTable, element);\n",
              "        const docLink = document.createElement('div');\n",
              "        docLink.innerHTML = docLinkHtml;\n",
              "        element.appendChild(docLink);\n",
              "      }\n",
              "    </script>\n",
              "  </div>\n",
              "\n",
              "\n",
              "    <div id=\"df-98bb6879-98a5-456b-a37c-51a1244d07ce\">\n",
              "      <button class=\"colab-df-quickchart\" onclick=\"quickchart('df-98bb6879-98a5-456b-a37c-51a1244d07ce')\"\n",
              "                title=\"Suggest charts\"\n",
              "                style=\"display:none;\">\n",
              "\n",
              "<svg xmlns=\"http://www.w3.org/2000/svg\" height=\"24px\"viewBox=\"0 0 24 24\"\n",
              "     width=\"24px\">\n",
              "    <g>\n",
              "        <path d=\"M19 3H5c-1.1 0-2 .9-2 2v14c0 1.1.9 2 2 2h14c1.1 0 2-.9 2-2V5c0-1.1-.9-2-2-2zM9 17H7v-7h2v7zm4 0h-2V7h2v10zm4 0h-2v-4h2v4z\"/>\n",
              "    </g>\n",
              "</svg>\n",
              "      </button>\n",
              "\n",
              "<style>\n",
              "  .colab-df-quickchart {\n",
              "      --bg-color: #E8F0FE;\n",
              "      --fill-color: #1967D2;\n",
              "      --hover-bg-color: #E2EBFA;\n",
              "      --hover-fill-color: #174EA6;\n",
              "      --disabled-fill-color: #AAA;\n",
              "      --disabled-bg-color: #DDD;\n",
              "  }\n",
              "\n",
              "  [theme=dark] .colab-df-quickchart {\n",
              "      --bg-color: #3B4455;\n",
              "      --fill-color: #D2E3FC;\n",
              "      --hover-bg-color: #434B5C;\n",
              "      --hover-fill-color: #FFFFFF;\n",
              "      --disabled-bg-color: #3B4455;\n",
              "      --disabled-fill-color: #666;\n",
              "  }\n",
              "\n",
              "  .colab-df-quickchart {\n",
              "    background-color: var(--bg-color);\n",
              "    border: none;\n",
              "    border-radius: 50%;\n",
              "    cursor: pointer;\n",
              "    display: none;\n",
              "    fill: var(--fill-color);\n",
              "    height: 32px;\n",
              "    padding: 0;\n",
              "    width: 32px;\n",
              "  }\n",
              "\n",
              "  .colab-df-quickchart:hover {\n",
              "    background-color: var(--hover-bg-color);\n",
              "    box-shadow: 0 1px 2px rgba(60, 64, 67, 0.3), 0 1px 3px 1px rgba(60, 64, 67, 0.15);\n",
              "    fill: var(--button-hover-fill-color);\n",
              "  }\n",
              "\n",
              "  .colab-df-quickchart-complete:disabled,\n",
              "  .colab-df-quickchart-complete:disabled:hover {\n",
              "    background-color: var(--disabled-bg-color);\n",
              "    fill: var(--disabled-fill-color);\n",
              "    box-shadow: none;\n",
              "  }\n",
              "\n",
              "  .colab-df-spinner {\n",
              "    border: 2px solid var(--fill-color);\n",
              "    border-color: transparent;\n",
              "    border-bottom-color: var(--fill-color);\n",
              "    animation:\n",
              "      spin 1s steps(1) infinite;\n",
              "  }\n",
              "\n",
              "  @keyframes spin {\n",
              "    0% {\n",
              "      border-color: transparent;\n",
              "      border-bottom-color: var(--fill-color);\n",
              "      border-left-color: var(--fill-color);\n",
              "    }\n",
              "    20% {\n",
              "      border-color: transparent;\n",
              "      border-left-color: var(--fill-color);\n",
              "      border-top-color: var(--fill-color);\n",
              "    }\n",
              "    30% {\n",
              "      border-color: transparent;\n",
              "      border-left-color: var(--fill-color);\n",
              "      border-top-color: var(--fill-color);\n",
              "      border-right-color: var(--fill-color);\n",
              "    }\n",
              "    40% {\n",
              "      border-color: transparent;\n",
              "      border-right-color: var(--fill-color);\n",
              "      border-top-color: var(--fill-color);\n",
              "    }\n",
              "    60% {\n",
              "      border-color: transparent;\n",
              "      border-right-color: var(--fill-color);\n",
              "    }\n",
              "    80% {\n",
              "      border-color: transparent;\n",
              "      border-right-color: var(--fill-color);\n",
              "      border-bottom-color: var(--fill-color);\n",
              "    }\n",
              "    90% {\n",
              "      border-color: transparent;\n",
              "      border-bottom-color: var(--fill-color);\n",
              "    }\n",
              "  }\n",
              "</style>\n",
              "\n",
              "      <script>\n",
              "        async function quickchart(key) {\n",
              "          const quickchartButtonEl =\n",
              "            document.querySelector('#' + key + ' button');\n",
              "          quickchartButtonEl.disabled = true;  // To prevent multiple clicks.\n",
              "          quickchartButtonEl.classList.add('colab-df-spinner');\n",
              "          try {\n",
              "            const charts = await google.colab.kernel.invokeFunction(\n",
              "                'suggestCharts', [key], {});\n",
              "          } catch (error) {\n",
              "            console.error('Error during call to suggestCharts:', error);\n",
              "          }\n",
              "          quickchartButtonEl.classList.remove('colab-df-spinner');\n",
              "          quickchartButtonEl.classList.add('colab-df-quickchart-complete');\n",
              "        }\n",
              "        (() => {\n",
              "          let quickchartButtonEl =\n",
              "            document.querySelector('#df-98bb6879-98a5-456b-a37c-51a1244d07ce button');\n",
              "          quickchartButtonEl.style.display =\n",
              "            google.colab.kernel.accessAllowed ? 'block' : 'none';\n",
              "        })();\n",
              "      </script>\n",
              "    </div>\n",
              "\n",
              "    </div>\n",
              "  </div>\n"
            ],
            "application/vnd.google.colaboratory.intrinsic+json": {
              "type": "dataframe",
              "summary": "{\n  \"name\": \"tourismrating\",\n  \"rows\": 8,\n  \"fields\": [\n    {\n      \"column\": \"User_Id\",\n      \"properties\": {\n        \"dtype\": \"number\",\n        \"std\": 3486.626004400301,\n        \"min\": 1.0,\n        \"max\": 10000.0,\n        \"num_unique_values\": 8,\n        \"samples\": [\n          151.2927,\n          151.0,\n          10000.0\n        ],\n        \"semantic_type\": \"\",\n        \"description\": \"\"\n      }\n    },\n    {\n      \"column\": \"Place_Id\",\n      \"properties\": {\n        \"dtype\": \"number\",\n        \"std\": 3465.3452832756675,\n        \"min\": 1.0,\n        \"max\": 10000.0,\n        \"num_unique_values\": 8,\n        \"samples\": [\n          219.4164,\n          220.0,\n          10000.0\n        ],\n        \"semantic_type\": \"\",\n        \"description\": \"\"\n      }\n    },\n    {\n      \"column\": \"Place_Ratings\",\n      \"properties\": {\n        \"dtype\": \"number\",\n        \"std\": 3534.551960019311,\n        \"min\": 1.0,\n        \"max\": 10000.0,\n        \"num_unique_values\": 8,\n        \"samples\": [\n          3.0665,\n          3.0,\n          10000.0\n        ],\n        \"semantic_type\": \"\",\n        \"description\": \"\"\n      }\n    }\n  ]\n}"
            }
          },
          "metadata": {},
          "execution_count": 9
        }
      ]
    },
    {
      "cell_type": "markdown",
      "source": [
        "Pada tahap ini, kita mengevaluasi dataset tourism_rating.csv yang berisi data penilaian dari pengguna terhadap berbagai tempat wisata.\n",
        "- tourismrating.info() digunakan untuk mengetahui struktur DataFrame:\n",
        "  - Terdapat 10.000 entri yang masing-masing terdiri dari:\n",
        "    - User_Id — ID pengguna yang memberikan penilaian.\n",
        "    - Place_Id — ID tempat wisata yang dinilai.\n",
        "    - Place_Ratings — skor penilaian dari pengguna (bernilai antara 1 sampai 5).\n",
        "  - Seluruh kolom memiliki data lengkap (tidak ada nilai null), dan semuanya bertipe int64.\n",
        "\n",
        "- tourismrating.describe() digunakan untuk menampilkan statistik deskriptif:\n",
        "  - Rata-rata penilaian (Place_Ratings) adalah sekitar 3,07 dengan standar deviasi sekitar 1,38, menunjukkan adanya variasi penilaian.\n",
        "  - Nilai minimum dan maksimum untuk penilaian adalah 1 dan 5, menunjukkan bahwa sistem rating berskala 1–5.\n",
        "  - ID pengguna (User_Id) berkisar dari 1 hingga 300, dan ID tempat wisata (Place_Id) dari 1 hingga 437.\n",
        "\n",
        "Informasi ini memberikan gambaran umum tentang distribusi data penilaian yang akan sangat berguna dalam analisis rekomendasi atau evaluasi wisata favorit."
      ],
      "metadata": {
        "id": "LrhhyIVPlCfI"
      }
    },
    {
      "cell_type": "code",
      "source": [
        "tourismrating.head()"
      ],
      "metadata": {
        "colab": {
          "base_uri": "https://localhost:8080/",
          "height": 206
        },
        "id": "rCt2PJfOccwa",
        "outputId": "73df23d0-c28f-461e-fff9-7b0f50be7576"
      },
      "execution_count": null,
      "outputs": [
        {
          "output_type": "execute_result",
          "data": {
            "text/plain": [
              "   User_Id  Place_Id  Place_Ratings\n",
              "0        1       179              3\n",
              "1        1       344              2\n",
              "2        1         5              5\n",
              "3        1       373              3\n",
              "4        1       101              4"
            ],
            "text/html": [
              "\n",
              "  <div id=\"df-f534a1b7-28d5-4b3b-b032-65c22d12489f\" class=\"colab-df-container\">\n",
              "    <div>\n",
              "<style scoped>\n",
              "    .dataframe tbody tr th:only-of-type {\n",
              "        vertical-align: middle;\n",
              "    }\n",
              "\n",
              "    .dataframe tbody tr th {\n",
              "        vertical-align: top;\n",
              "    }\n",
              "\n",
              "    .dataframe thead th {\n",
              "        text-align: right;\n",
              "    }\n",
              "</style>\n",
              "<table border=\"1\" class=\"dataframe\">\n",
              "  <thead>\n",
              "    <tr style=\"text-align: right;\">\n",
              "      <th></th>\n",
              "      <th>User_Id</th>\n",
              "      <th>Place_Id</th>\n",
              "      <th>Place_Ratings</th>\n",
              "    </tr>\n",
              "  </thead>\n",
              "  <tbody>\n",
              "    <tr>\n",
              "      <th>0</th>\n",
              "      <td>1</td>\n",
              "      <td>179</td>\n",
              "      <td>3</td>\n",
              "    </tr>\n",
              "    <tr>\n",
              "      <th>1</th>\n",
              "      <td>1</td>\n",
              "      <td>344</td>\n",
              "      <td>2</td>\n",
              "    </tr>\n",
              "    <tr>\n",
              "      <th>2</th>\n",
              "      <td>1</td>\n",
              "      <td>5</td>\n",
              "      <td>5</td>\n",
              "    </tr>\n",
              "    <tr>\n",
              "      <th>3</th>\n",
              "      <td>1</td>\n",
              "      <td>373</td>\n",
              "      <td>3</td>\n",
              "    </tr>\n",
              "    <tr>\n",
              "      <th>4</th>\n",
              "      <td>1</td>\n",
              "      <td>101</td>\n",
              "      <td>4</td>\n",
              "    </tr>\n",
              "  </tbody>\n",
              "</table>\n",
              "</div>\n",
              "    <div class=\"colab-df-buttons\">\n",
              "\n",
              "  <div class=\"colab-df-container\">\n",
              "    <button class=\"colab-df-convert\" onclick=\"convertToInteractive('df-f534a1b7-28d5-4b3b-b032-65c22d12489f')\"\n",
              "            title=\"Convert this dataframe to an interactive table.\"\n",
              "            style=\"display:none;\">\n",
              "\n",
              "  <svg xmlns=\"http://www.w3.org/2000/svg\" height=\"24px\" viewBox=\"0 -960 960 960\">\n",
              "    <path d=\"M120-120v-720h720v720H120Zm60-500h600v-160H180v160Zm220 220h160v-160H400v160Zm0 220h160v-160H400v160ZM180-400h160v-160H180v160Zm440 0h160v-160H620v160ZM180-180h160v-160H180v160Zm440 0h160v-160H620v160Z\"/>\n",
              "  </svg>\n",
              "    </button>\n",
              "\n",
              "  <style>\n",
              "    .colab-df-container {\n",
              "      display:flex;\n",
              "      gap: 12px;\n",
              "    }\n",
              "\n",
              "    .colab-df-convert {\n",
              "      background-color: #E8F0FE;\n",
              "      border: none;\n",
              "      border-radius: 50%;\n",
              "      cursor: pointer;\n",
              "      display: none;\n",
              "      fill: #1967D2;\n",
              "      height: 32px;\n",
              "      padding: 0 0 0 0;\n",
              "      width: 32px;\n",
              "    }\n",
              "\n",
              "    .colab-df-convert:hover {\n",
              "      background-color: #E2EBFA;\n",
              "      box-shadow: 0px 1px 2px rgba(60, 64, 67, 0.3), 0px 1px 3px 1px rgba(60, 64, 67, 0.15);\n",
              "      fill: #174EA6;\n",
              "    }\n",
              "\n",
              "    .colab-df-buttons div {\n",
              "      margin-bottom: 4px;\n",
              "    }\n",
              "\n",
              "    [theme=dark] .colab-df-convert {\n",
              "      background-color: #3B4455;\n",
              "      fill: #D2E3FC;\n",
              "    }\n",
              "\n",
              "    [theme=dark] .colab-df-convert:hover {\n",
              "      background-color: #434B5C;\n",
              "      box-shadow: 0px 1px 3px 1px rgba(0, 0, 0, 0.15);\n",
              "      filter: drop-shadow(0px 1px 2px rgba(0, 0, 0, 0.3));\n",
              "      fill: #FFFFFF;\n",
              "    }\n",
              "  </style>\n",
              "\n",
              "    <script>\n",
              "      const buttonEl =\n",
              "        document.querySelector('#df-f534a1b7-28d5-4b3b-b032-65c22d12489f button.colab-df-convert');\n",
              "      buttonEl.style.display =\n",
              "        google.colab.kernel.accessAllowed ? 'block' : 'none';\n",
              "\n",
              "      async function convertToInteractive(key) {\n",
              "        const element = document.querySelector('#df-f534a1b7-28d5-4b3b-b032-65c22d12489f');\n",
              "        const dataTable =\n",
              "          await google.colab.kernel.invokeFunction('convertToInteractive',\n",
              "                                                    [key], {});\n",
              "        if (!dataTable) return;\n",
              "\n",
              "        const docLinkHtml = 'Like what you see? Visit the ' +\n",
              "          '<a target=\"_blank\" href=https://colab.research.google.com/notebooks/data_table.ipynb>data table notebook</a>'\n",
              "          + ' to learn more about interactive tables.';\n",
              "        element.innerHTML = '';\n",
              "        dataTable['output_type'] = 'display_data';\n",
              "        await google.colab.output.renderOutput(dataTable, element);\n",
              "        const docLink = document.createElement('div');\n",
              "        docLink.innerHTML = docLinkHtml;\n",
              "        element.appendChild(docLink);\n",
              "      }\n",
              "    </script>\n",
              "  </div>\n",
              "\n",
              "\n",
              "    <div id=\"df-464e08c5-c92b-40ff-8ee6-967f4870181a\">\n",
              "      <button class=\"colab-df-quickchart\" onclick=\"quickchart('df-464e08c5-c92b-40ff-8ee6-967f4870181a')\"\n",
              "                title=\"Suggest charts\"\n",
              "                style=\"display:none;\">\n",
              "\n",
              "<svg xmlns=\"http://www.w3.org/2000/svg\" height=\"24px\"viewBox=\"0 0 24 24\"\n",
              "     width=\"24px\">\n",
              "    <g>\n",
              "        <path d=\"M19 3H5c-1.1 0-2 .9-2 2v14c0 1.1.9 2 2 2h14c1.1 0 2-.9 2-2V5c0-1.1-.9-2-2-2zM9 17H7v-7h2v7zm4 0h-2V7h2v10zm4 0h-2v-4h2v4z\"/>\n",
              "    </g>\n",
              "</svg>\n",
              "      </button>\n",
              "\n",
              "<style>\n",
              "  .colab-df-quickchart {\n",
              "      --bg-color: #E8F0FE;\n",
              "      --fill-color: #1967D2;\n",
              "      --hover-bg-color: #E2EBFA;\n",
              "      --hover-fill-color: #174EA6;\n",
              "      --disabled-fill-color: #AAA;\n",
              "      --disabled-bg-color: #DDD;\n",
              "  }\n",
              "\n",
              "  [theme=dark] .colab-df-quickchart {\n",
              "      --bg-color: #3B4455;\n",
              "      --fill-color: #D2E3FC;\n",
              "      --hover-bg-color: #434B5C;\n",
              "      --hover-fill-color: #FFFFFF;\n",
              "      --disabled-bg-color: #3B4455;\n",
              "      --disabled-fill-color: #666;\n",
              "  }\n",
              "\n",
              "  .colab-df-quickchart {\n",
              "    background-color: var(--bg-color);\n",
              "    border: none;\n",
              "    border-radius: 50%;\n",
              "    cursor: pointer;\n",
              "    display: none;\n",
              "    fill: var(--fill-color);\n",
              "    height: 32px;\n",
              "    padding: 0;\n",
              "    width: 32px;\n",
              "  }\n",
              "\n",
              "  .colab-df-quickchart:hover {\n",
              "    background-color: var(--hover-bg-color);\n",
              "    box-shadow: 0 1px 2px rgba(60, 64, 67, 0.3), 0 1px 3px 1px rgba(60, 64, 67, 0.15);\n",
              "    fill: var(--button-hover-fill-color);\n",
              "  }\n",
              "\n",
              "  .colab-df-quickchart-complete:disabled,\n",
              "  .colab-df-quickchart-complete:disabled:hover {\n",
              "    background-color: var(--disabled-bg-color);\n",
              "    fill: var(--disabled-fill-color);\n",
              "    box-shadow: none;\n",
              "  }\n",
              "\n",
              "  .colab-df-spinner {\n",
              "    border: 2px solid var(--fill-color);\n",
              "    border-color: transparent;\n",
              "    border-bottom-color: var(--fill-color);\n",
              "    animation:\n",
              "      spin 1s steps(1) infinite;\n",
              "  }\n",
              "\n",
              "  @keyframes spin {\n",
              "    0% {\n",
              "      border-color: transparent;\n",
              "      border-bottom-color: var(--fill-color);\n",
              "      border-left-color: var(--fill-color);\n",
              "    }\n",
              "    20% {\n",
              "      border-color: transparent;\n",
              "      border-left-color: var(--fill-color);\n",
              "      border-top-color: var(--fill-color);\n",
              "    }\n",
              "    30% {\n",
              "      border-color: transparent;\n",
              "      border-left-color: var(--fill-color);\n",
              "      border-top-color: var(--fill-color);\n",
              "      border-right-color: var(--fill-color);\n",
              "    }\n",
              "    40% {\n",
              "      border-color: transparent;\n",
              "      border-right-color: var(--fill-color);\n",
              "      border-top-color: var(--fill-color);\n",
              "    }\n",
              "    60% {\n",
              "      border-color: transparent;\n",
              "      border-right-color: var(--fill-color);\n",
              "    }\n",
              "    80% {\n",
              "      border-color: transparent;\n",
              "      border-right-color: var(--fill-color);\n",
              "      border-bottom-color: var(--fill-color);\n",
              "    }\n",
              "    90% {\n",
              "      border-color: transparent;\n",
              "      border-bottom-color: var(--fill-color);\n",
              "    }\n",
              "  }\n",
              "</style>\n",
              "\n",
              "      <script>\n",
              "        async function quickchart(key) {\n",
              "          const quickchartButtonEl =\n",
              "            document.querySelector('#' + key + ' button');\n",
              "          quickchartButtonEl.disabled = true;  // To prevent multiple clicks.\n",
              "          quickchartButtonEl.classList.add('colab-df-spinner');\n",
              "          try {\n",
              "            const charts = await google.colab.kernel.invokeFunction(\n",
              "                'suggestCharts', [key], {});\n",
              "          } catch (error) {\n",
              "            console.error('Error during call to suggestCharts:', error);\n",
              "          }\n",
              "          quickchartButtonEl.classList.remove('colab-df-spinner');\n",
              "          quickchartButtonEl.classList.add('colab-df-quickchart-complete');\n",
              "        }\n",
              "        (() => {\n",
              "          let quickchartButtonEl =\n",
              "            document.querySelector('#df-464e08c5-c92b-40ff-8ee6-967f4870181a button');\n",
              "          quickchartButtonEl.style.display =\n",
              "            google.colab.kernel.accessAllowed ? 'block' : 'none';\n",
              "        })();\n",
              "      </script>\n",
              "    </div>\n",
              "\n",
              "    </div>\n",
              "  </div>\n"
            ],
            "application/vnd.google.colaboratory.intrinsic+json": {
              "type": "dataframe",
              "variable_name": "tourismrating",
              "summary": "{\n  \"name\": \"tourismrating\",\n  \"rows\": 10000,\n  \"fields\": [\n    {\n      \"column\": \"User_Id\",\n      \"properties\": {\n        \"dtype\": \"number\",\n        \"std\": 86,\n        \"min\": 1,\n        \"max\": 300,\n        \"num_unique_values\": 300,\n        \"samples\": [\n          204,\n          267,\n          153\n        ],\n        \"semantic_type\": \"\",\n        \"description\": \"\"\n      }\n    },\n    {\n      \"column\": \"Place_Id\",\n      \"properties\": {\n        \"dtype\": \"number\",\n        \"std\": 126,\n        \"min\": 1,\n        \"max\": 437,\n        \"num_unique_values\": 437,\n        \"samples\": [\n          380,\n          237,\n          19\n        ],\n        \"semantic_type\": \"\",\n        \"description\": \"\"\n      }\n    },\n    {\n      \"column\": \"Place_Ratings\",\n      \"properties\": {\n        \"dtype\": \"number\",\n        \"std\": 1,\n        \"min\": 1,\n        \"max\": 5,\n        \"num_unique_values\": 5,\n        \"samples\": [\n          2,\n          1,\n          5\n        ],\n        \"semantic_type\": \"\",\n        \"description\": \"\"\n      }\n    }\n  ]\n}"
            }
          },
          "metadata": {},
          "execution_count": 10
        }
      ]
    },
    {
      "cell_type": "markdown",
      "source": [
        "pada tourismrating terdapat 10.000 data, menyimpan data rating dari pengguna terhadap tempat wisata tertentu. Tidak ada missing values."
      ],
      "metadata": {
        "id": "pGPtMVHlPsbu"
      }
    },
    {
      "cell_type": "code",
      "source": [
        "tourismwithid.info()\n",
        "tourismwithid.head()"
      ],
      "metadata": {
        "colab": {
          "base_uri": "https://localhost:8080/",
          "height": 938
        },
        "id": "e-n_JECH29mL",
        "outputId": "2daa902b-0b59-4034-c0ed-85fe3b07a187"
      },
      "execution_count": null,
      "outputs": [
        {
          "output_type": "stream",
          "name": "stdout",
          "text": [
            "<class 'pandas.core.frame.DataFrame'>\n",
            "RangeIndex: 437 entries, 0 to 436\n",
            "Data columns (total 13 columns):\n",
            " #   Column        Non-Null Count  Dtype  \n",
            "---  ------        --------------  -----  \n",
            " 0   Place_Id      437 non-null    int64  \n",
            " 1   Place_Name    437 non-null    object \n",
            " 2   Description   437 non-null    object \n",
            " 3   Category      437 non-null    object \n",
            " 4   City          437 non-null    object \n",
            " 5   Price         437 non-null    int64  \n",
            " 6   Rating        437 non-null    float64\n",
            " 7   Time_Minutes  205 non-null    float64\n",
            " 8   Coordinate    437 non-null    object \n",
            " 9   Lat           437 non-null    float64\n",
            " 10  Long          437 non-null    float64\n",
            " 11  Unnamed: 11   0 non-null      float64\n",
            " 12  Unnamed: 12   437 non-null    int64  \n",
            "dtypes: float64(5), int64(3), object(5)\n",
            "memory usage: 44.5+ KB\n"
          ]
        },
        {
          "output_type": "execute_result",
          "data": {
            "text/plain": [
              "   Place_Id                         Place_Name  \\\n",
              "0         1                   Monumen Nasional   \n",
              "1         2                           Kota Tua   \n",
              "2         3                      Dunia Fantasi   \n",
              "3         4  Taman Mini Indonesia Indah (TMII)   \n",
              "4         5           Atlantis Water Adventure   \n",
              "\n",
              "                                         Description       Category     City  \\\n",
              "0  Monumen Nasional atau yang populer disingkat d...         Budaya  Jakarta   \n",
              "1  Kota tua di Jakarta, yang juga bernama Kota Tu...         Budaya  Jakarta   \n",
              "2  Dunia Fantasi atau disebut juga Dufan adalah t...  Taman Hiburan  Jakarta   \n",
              "3  Taman Mini Indonesia Indah merupakan suatu kaw...  Taman Hiburan  Jakarta   \n",
              "4  Atlantis Water Adventure atau dikenal dengan A...  Taman Hiburan  Jakarta   \n",
              "\n",
              "    Price  Rating  Time_Minutes  \\\n",
              "0   20000     4.6          15.0   \n",
              "1       0     4.6          90.0   \n",
              "2  270000     4.6         360.0   \n",
              "3   10000     4.5           NaN   \n",
              "4   94000     4.5          60.0   \n",
              "\n",
              "                                        Coordinate       Lat        Long  \\\n",
              "0          {'lat': -6.1753924, 'lng': 106.8271528} -6.175392  106.827153   \n",
              "1  {'lat': -6.137644799999999, 'lng': 106.8171245} -6.137645  106.817125   \n",
              "2  {'lat': -6.125312399999999, 'lng': 106.8335377} -6.125312  106.833538   \n",
              "3  {'lat': -6.302445899999999, 'lng': 106.8951559} -6.302446  106.895156   \n",
              "4             {'lat': -6.12419, 'lng': 106.839134} -6.124190  106.839134   \n",
              "\n",
              "   Unnamed: 11  Unnamed: 12  \n",
              "0          NaN            1  \n",
              "1          NaN            2  \n",
              "2          NaN            3  \n",
              "3          NaN            4  \n",
              "4          NaN            5  "
            ],
            "text/html": [
              "\n",
              "  <div id=\"df-6f277a00-4be9-42cf-9b27-a457c574201c\" class=\"colab-df-container\">\n",
              "    <div>\n",
              "<style scoped>\n",
              "    .dataframe tbody tr th:only-of-type {\n",
              "        vertical-align: middle;\n",
              "    }\n",
              "\n",
              "    .dataframe tbody tr th {\n",
              "        vertical-align: top;\n",
              "    }\n",
              "\n",
              "    .dataframe thead th {\n",
              "        text-align: right;\n",
              "    }\n",
              "</style>\n",
              "<table border=\"1\" class=\"dataframe\">\n",
              "  <thead>\n",
              "    <tr style=\"text-align: right;\">\n",
              "      <th></th>\n",
              "      <th>Place_Id</th>\n",
              "      <th>Place_Name</th>\n",
              "      <th>Description</th>\n",
              "      <th>Category</th>\n",
              "      <th>City</th>\n",
              "      <th>Price</th>\n",
              "      <th>Rating</th>\n",
              "      <th>Time_Minutes</th>\n",
              "      <th>Coordinate</th>\n",
              "      <th>Lat</th>\n",
              "      <th>Long</th>\n",
              "      <th>Unnamed: 11</th>\n",
              "      <th>Unnamed: 12</th>\n",
              "    </tr>\n",
              "  </thead>\n",
              "  <tbody>\n",
              "    <tr>\n",
              "      <th>0</th>\n",
              "      <td>1</td>\n",
              "      <td>Monumen Nasional</td>\n",
              "      <td>Monumen Nasional atau yang populer disingkat d...</td>\n",
              "      <td>Budaya</td>\n",
              "      <td>Jakarta</td>\n",
              "      <td>20000</td>\n",
              "      <td>4.6</td>\n",
              "      <td>15.0</td>\n",
              "      <td>{'lat': -6.1753924, 'lng': 106.8271528}</td>\n",
              "      <td>-6.175392</td>\n",
              "      <td>106.827153</td>\n",
              "      <td>NaN</td>\n",
              "      <td>1</td>\n",
              "    </tr>\n",
              "    <tr>\n",
              "      <th>1</th>\n",
              "      <td>2</td>\n",
              "      <td>Kota Tua</td>\n",
              "      <td>Kota tua di Jakarta, yang juga bernama Kota Tu...</td>\n",
              "      <td>Budaya</td>\n",
              "      <td>Jakarta</td>\n",
              "      <td>0</td>\n",
              "      <td>4.6</td>\n",
              "      <td>90.0</td>\n",
              "      <td>{'lat': -6.137644799999999, 'lng': 106.8171245}</td>\n",
              "      <td>-6.137645</td>\n",
              "      <td>106.817125</td>\n",
              "      <td>NaN</td>\n",
              "      <td>2</td>\n",
              "    </tr>\n",
              "    <tr>\n",
              "      <th>2</th>\n",
              "      <td>3</td>\n",
              "      <td>Dunia Fantasi</td>\n",
              "      <td>Dunia Fantasi atau disebut juga Dufan adalah t...</td>\n",
              "      <td>Taman Hiburan</td>\n",
              "      <td>Jakarta</td>\n",
              "      <td>270000</td>\n",
              "      <td>4.6</td>\n",
              "      <td>360.0</td>\n",
              "      <td>{'lat': -6.125312399999999, 'lng': 106.8335377}</td>\n",
              "      <td>-6.125312</td>\n",
              "      <td>106.833538</td>\n",
              "      <td>NaN</td>\n",
              "      <td>3</td>\n",
              "    </tr>\n",
              "    <tr>\n",
              "      <th>3</th>\n",
              "      <td>4</td>\n",
              "      <td>Taman Mini Indonesia Indah (TMII)</td>\n",
              "      <td>Taman Mini Indonesia Indah merupakan suatu kaw...</td>\n",
              "      <td>Taman Hiburan</td>\n",
              "      <td>Jakarta</td>\n",
              "      <td>10000</td>\n",
              "      <td>4.5</td>\n",
              "      <td>NaN</td>\n",
              "      <td>{'lat': -6.302445899999999, 'lng': 106.8951559}</td>\n",
              "      <td>-6.302446</td>\n",
              "      <td>106.895156</td>\n",
              "      <td>NaN</td>\n",
              "      <td>4</td>\n",
              "    </tr>\n",
              "    <tr>\n",
              "      <th>4</th>\n",
              "      <td>5</td>\n",
              "      <td>Atlantis Water Adventure</td>\n",
              "      <td>Atlantis Water Adventure atau dikenal dengan A...</td>\n",
              "      <td>Taman Hiburan</td>\n",
              "      <td>Jakarta</td>\n",
              "      <td>94000</td>\n",
              "      <td>4.5</td>\n",
              "      <td>60.0</td>\n",
              "      <td>{'lat': -6.12419, 'lng': 106.839134}</td>\n",
              "      <td>-6.124190</td>\n",
              "      <td>106.839134</td>\n",
              "      <td>NaN</td>\n",
              "      <td>5</td>\n",
              "    </tr>\n",
              "  </tbody>\n",
              "</table>\n",
              "</div>\n",
              "    <div class=\"colab-df-buttons\">\n",
              "\n",
              "  <div class=\"colab-df-container\">\n",
              "    <button class=\"colab-df-convert\" onclick=\"convertToInteractive('df-6f277a00-4be9-42cf-9b27-a457c574201c')\"\n",
              "            title=\"Convert this dataframe to an interactive table.\"\n",
              "            style=\"display:none;\">\n",
              "\n",
              "  <svg xmlns=\"http://www.w3.org/2000/svg\" height=\"24px\" viewBox=\"0 -960 960 960\">\n",
              "    <path d=\"M120-120v-720h720v720H120Zm60-500h600v-160H180v160Zm220 220h160v-160H400v160Zm0 220h160v-160H400v160ZM180-400h160v-160H180v160Zm440 0h160v-160H620v160ZM180-180h160v-160H180v160Zm440 0h160v-160H620v160Z\"/>\n",
              "  </svg>\n",
              "    </button>\n",
              "\n",
              "  <style>\n",
              "    .colab-df-container {\n",
              "      display:flex;\n",
              "      gap: 12px;\n",
              "    }\n",
              "\n",
              "    .colab-df-convert {\n",
              "      background-color: #E8F0FE;\n",
              "      border: none;\n",
              "      border-radius: 50%;\n",
              "      cursor: pointer;\n",
              "      display: none;\n",
              "      fill: #1967D2;\n",
              "      height: 32px;\n",
              "      padding: 0 0 0 0;\n",
              "      width: 32px;\n",
              "    }\n",
              "\n",
              "    .colab-df-convert:hover {\n",
              "      background-color: #E2EBFA;\n",
              "      box-shadow: 0px 1px 2px rgba(60, 64, 67, 0.3), 0px 1px 3px 1px rgba(60, 64, 67, 0.15);\n",
              "      fill: #174EA6;\n",
              "    }\n",
              "\n",
              "    .colab-df-buttons div {\n",
              "      margin-bottom: 4px;\n",
              "    }\n",
              "\n",
              "    [theme=dark] .colab-df-convert {\n",
              "      background-color: #3B4455;\n",
              "      fill: #D2E3FC;\n",
              "    }\n",
              "\n",
              "    [theme=dark] .colab-df-convert:hover {\n",
              "      background-color: #434B5C;\n",
              "      box-shadow: 0px 1px 3px 1px rgba(0, 0, 0, 0.15);\n",
              "      filter: drop-shadow(0px 1px 2px rgba(0, 0, 0, 0.3));\n",
              "      fill: #FFFFFF;\n",
              "    }\n",
              "  </style>\n",
              "\n",
              "    <script>\n",
              "      const buttonEl =\n",
              "        document.querySelector('#df-6f277a00-4be9-42cf-9b27-a457c574201c button.colab-df-convert');\n",
              "      buttonEl.style.display =\n",
              "        google.colab.kernel.accessAllowed ? 'block' : 'none';\n",
              "\n",
              "      async function convertToInteractive(key) {\n",
              "        const element = document.querySelector('#df-6f277a00-4be9-42cf-9b27-a457c574201c');\n",
              "        const dataTable =\n",
              "          await google.colab.kernel.invokeFunction('convertToInteractive',\n",
              "                                                    [key], {});\n",
              "        if (!dataTable) return;\n",
              "\n",
              "        const docLinkHtml = 'Like what you see? Visit the ' +\n",
              "          '<a target=\"_blank\" href=https://colab.research.google.com/notebooks/data_table.ipynb>data table notebook</a>'\n",
              "          + ' to learn more about interactive tables.';\n",
              "        element.innerHTML = '';\n",
              "        dataTable['output_type'] = 'display_data';\n",
              "        await google.colab.output.renderOutput(dataTable, element);\n",
              "        const docLink = document.createElement('div');\n",
              "        docLink.innerHTML = docLinkHtml;\n",
              "        element.appendChild(docLink);\n",
              "      }\n",
              "    </script>\n",
              "  </div>\n",
              "\n",
              "\n",
              "    <div id=\"df-6eb30e3c-762e-4666-bc1d-f84c9eb8f161\">\n",
              "      <button class=\"colab-df-quickchart\" onclick=\"quickchart('df-6eb30e3c-762e-4666-bc1d-f84c9eb8f161')\"\n",
              "                title=\"Suggest charts\"\n",
              "                style=\"display:none;\">\n",
              "\n",
              "<svg xmlns=\"http://www.w3.org/2000/svg\" height=\"24px\"viewBox=\"0 0 24 24\"\n",
              "     width=\"24px\">\n",
              "    <g>\n",
              "        <path d=\"M19 3H5c-1.1 0-2 .9-2 2v14c0 1.1.9 2 2 2h14c1.1 0 2-.9 2-2V5c0-1.1-.9-2-2-2zM9 17H7v-7h2v7zm4 0h-2V7h2v10zm4 0h-2v-4h2v4z\"/>\n",
              "    </g>\n",
              "</svg>\n",
              "      </button>\n",
              "\n",
              "<style>\n",
              "  .colab-df-quickchart {\n",
              "      --bg-color: #E8F0FE;\n",
              "      --fill-color: #1967D2;\n",
              "      --hover-bg-color: #E2EBFA;\n",
              "      --hover-fill-color: #174EA6;\n",
              "      --disabled-fill-color: #AAA;\n",
              "      --disabled-bg-color: #DDD;\n",
              "  }\n",
              "\n",
              "  [theme=dark] .colab-df-quickchart {\n",
              "      --bg-color: #3B4455;\n",
              "      --fill-color: #D2E3FC;\n",
              "      --hover-bg-color: #434B5C;\n",
              "      --hover-fill-color: #FFFFFF;\n",
              "      --disabled-bg-color: #3B4455;\n",
              "      --disabled-fill-color: #666;\n",
              "  }\n",
              "\n",
              "  .colab-df-quickchart {\n",
              "    background-color: var(--bg-color);\n",
              "    border: none;\n",
              "    border-radius: 50%;\n",
              "    cursor: pointer;\n",
              "    display: none;\n",
              "    fill: var(--fill-color);\n",
              "    height: 32px;\n",
              "    padding: 0;\n",
              "    width: 32px;\n",
              "  }\n",
              "\n",
              "  .colab-df-quickchart:hover {\n",
              "    background-color: var(--hover-bg-color);\n",
              "    box-shadow: 0 1px 2px rgba(60, 64, 67, 0.3), 0 1px 3px 1px rgba(60, 64, 67, 0.15);\n",
              "    fill: var(--button-hover-fill-color);\n",
              "  }\n",
              "\n",
              "  .colab-df-quickchart-complete:disabled,\n",
              "  .colab-df-quickchart-complete:disabled:hover {\n",
              "    background-color: var(--disabled-bg-color);\n",
              "    fill: var(--disabled-fill-color);\n",
              "    box-shadow: none;\n",
              "  }\n",
              "\n",
              "  .colab-df-spinner {\n",
              "    border: 2px solid var(--fill-color);\n",
              "    border-color: transparent;\n",
              "    border-bottom-color: var(--fill-color);\n",
              "    animation:\n",
              "      spin 1s steps(1) infinite;\n",
              "  }\n",
              "\n",
              "  @keyframes spin {\n",
              "    0% {\n",
              "      border-color: transparent;\n",
              "      border-bottom-color: var(--fill-color);\n",
              "      border-left-color: var(--fill-color);\n",
              "    }\n",
              "    20% {\n",
              "      border-color: transparent;\n",
              "      border-left-color: var(--fill-color);\n",
              "      border-top-color: var(--fill-color);\n",
              "    }\n",
              "    30% {\n",
              "      border-color: transparent;\n",
              "      border-left-color: var(--fill-color);\n",
              "      border-top-color: var(--fill-color);\n",
              "      border-right-color: var(--fill-color);\n",
              "    }\n",
              "    40% {\n",
              "      border-color: transparent;\n",
              "      border-right-color: var(--fill-color);\n",
              "      border-top-color: var(--fill-color);\n",
              "    }\n",
              "    60% {\n",
              "      border-color: transparent;\n",
              "      border-right-color: var(--fill-color);\n",
              "    }\n",
              "    80% {\n",
              "      border-color: transparent;\n",
              "      border-right-color: var(--fill-color);\n",
              "      border-bottom-color: var(--fill-color);\n",
              "    }\n",
              "    90% {\n",
              "      border-color: transparent;\n",
              "      border-bottom-color: var(--fill-color);\n",
              "    }\n",
              "  }\n",
              "</style>\n",
              "\n",
              "      <script>\n",
              "        async function quickchart(key) {\n",
              "          const quickchartButtonEl =\n",
              "            document.querySelector('#' + key + ' button');\n",
              "          quickchartButtonEl.disabled = true;  // To prevent multiple clicks.\n",
              "          quickchartButtonEl.classList.add('colab-df-spinner');\n",
              "          try {\n",
              "            const charts = await google.colab.kernel.invokeFunction(\n",
              "                'suggestCharts', [key], {});\n",
              "          } catch (error) {\n",
              "            console.error('Error during call to suggestCharts:', error);\n",
              "          }\n",
              "          quickchartButtonEl.classList.remove('colab-df-spinner');\n",
              "          quickchartButtonEl.classList.add('colab-df-quickchart-complete');\n",
              "        }\n",
              "        (() => {\n",
              "          let quickchartButtonEl =\n",
              "            document.querySelector('#df-6eb30e3c-762e-4666-bc1d-f84c9eb8f161 button');\n",
              "          quickchartButtonEl.style.display =\n",
              "            google.colab.kernel.accessAllowed ? 'block' : 'none';\n",
              "        })();\n",
              "      </script>\n",
              "    </div>\n",
              "\n",
              "    </div>\n",
              "  </div>\n"
            ],
            "application/vnd.google.colaboratory.intrinsic+json": {
              "type": "dataframe",
              "variable_name": "tourismwithid",
              "summary": "{\n  \"name\": \"tourismwithid\",\n  \"rows\": 437,\n  \"fields\": [\n    {\n      \"column\": \"Place_Id\",\n      \"properties\": {\n        \"dtype\": \"number\",\n        \"std\": 126,\n        \"min\": 1,\n        \"max\": 437,\n        \"num_unique_values\": 437,\n        \"samples\": [\n          396,\n          79,\n          279\n        ],\n        \"semantic_type\": \"\",\n        \"description\": \"\"\n      }\n    },\n    {\n      \"column\": \"Place_Name\",\n      \"properties\": {\n        \"dtype\": \"string\",\n        \"num_unique_values\": 437,\n        \"samples\": [\n          \"Monumen Kapal Selam\",\n          \"Taman Spathodea\",\n          \"Masjid Agung Trans Studio Bandung\"\n        ],\n        \"semantic_type\": \"\",\n        \"description\": \"\"\n      }\n    },\n    {\n      \"column\": \"Description\",\n      \"properties\": {\n        \"dtype\": \"string\",\n        \"num_unique_values\": 437,\n        \"samples\": [\n          \"Monumen Kapal Selam, atau disingkat Monkasel, adalah sebuah museum kapal selam yang terdapat di Embong Kaliasin, Genteng, Surabaya. Terletak di pusat kota, monumen ini sebenarnya merupakan kapal selam KRI Pasopati 410, salah satu armada Angkatan Laut Republik Indonesia buatan Uni Soviet tahun 1952. Kapal selam ini pernah dilibatkan dalam Pertempuran Laut Aru untuk membebaskan Irian Barat dari pendudukan Belanda.\\\\nKapal selam ini kemudian dibawa ke darat dan dijadikan monumen untuk memperingati keberanian pahlawan Indonesia. Monkasel berada di Jalan Pemuda, tepat di sebelah Plaza Surabaya. Selain interior kapal selam, di sini juga diadakan pemutaran film tentang proses peperangan yang terjadi di Laut Aru. Jika ingin mengunjungi tempat wisata ini, maka akan ditemani oleh seorang pemandu lokal yang terdapat di sana.\\\\nAda cerita unik di balik hadirnya monumen Kapal Selam ini. Pada suatu malam Pak Drajat Budiyanto yang merupakan mantan KKM KRI Pasopati 410 (buatan Rusia) ini dan juga mantan KKM KRI Cakra 401 (buatan Jerman Barat), bermimpi diperintahkan oleh KSAL pada waktu itu untuk membawa kapal selam ini melayari Kali Mas. Ternyata mimpi itu menjadi kenyataan. Dia ditugaskan untuk memajang kapal selam di samping Surabaya Plaza. Caranya dengan memotong kapal selam ini menjadi beberapa bagian, kemudian diangkut ke darat, dan dirangkai dan disambung kembali menjadi kapal selam yang utuh.\",\n          \"Objek Wisata Taman Spathodea di Jagakarsa DKI Jakarta Selatan Jakarta adalah salah satu tempat wisata yang berada di Jl. Kebagusan Raya, Kecamatan Jagakarsa, Kota Jakarta Selatan, Daerah Khusus Ibukota Jakarta, Indonesia. Objek Wisata Taman Spathodea di Jagakarsa DKI Jakarta Selatan Jakarta adalah tempat wisata yang ramai dengan wisatawan pada hari biasa maupun saat liburan. Yang menjadi daya tarik Taman Spathodea memiliki banyak jenis tanaman yang ditanam baik pepohonan dan bunga-bunga yang menghiasi area taman. Ada danau kecil yang berada ditengah taman akan membuat nyaman pengunjung. Banyak Fasilitas umum juga tersedia di Taman Spathodea seperti misalnya lintasan jogging, kolam ikan, outdoor gym, taman bermain untuk anak-anak, toilet, parkiran yang cukup luas dan tempat duduk yang cukup nyaman. Taman Spathodea ini hanya buka mulai pukul 05.00 \\u2013 18.00 WIB jadi kalo sudah mulai malam taman ini akan ditutup untuk umum.\",\n          \"Masjid Agung Trans Studio Bandung (TSB) berdiri megah. Rumah ibadah seluas 4.000 meter persegi bergaya Timur Tengah ini menjadi oase di tengah-tengah pusat perbelanjaan dan tempat rekreasi. konsep masjid modern yang mengadopsi ala Timur Tengah ini berdasarkan arahan Chairul Tanjung (CT), selaku pemiki CT Corp. Dia langsung menerawang guna mewujudkan desain Masjid Agung TSB yang kental dengan sentuhan Masjid Nabawi.\"\n        ],\n        \"semantic_type\": \"\",\n        \"description\": \"\"\n      }\n    },\n    {\n      \"column\": \"Category\",\n      \"properties\": {\n        \"dtype\": \"category\",\n        \"num_unique_values\": 6,\n        \"samples\": [\n          \"Budaya\",\n          \"Taman Hiburan\",\n          \"Tempat Ibadah\"\n        ],\n        \"semantic_type\": \"\",\n        \"description\": \"\"\n      }\n    },\n    {\n      \"column\": \"City\",\n      \"properties\": {\n        \"dtype\": \"category\",\n        \"num_unique_values\": 5,\n        \"samples\": [\n          \"Yogyakarta\",\n          \"Surabaya\",\n          \"Bandung\"\n        ],\n        \"semantic_type\": \"\",\n        \"description\": \"\"\n      }\n    },\n    {\n      \"column\": \"Price\",\n      \"properties\": {\n        \"dtype\": \"number\",\n        \"std\": 66446,\n        \"min\": 0,\n        \"max\": 900000,\n        \"num_unique_values\": 50,\n        \"samples\": [\n          185000,\n          81000,\n          7000\n        ],\n        \"semantic_type\": \"\",\n        \"description\": \"\"\n      }\n    },\n    {\n      \"column\": \"Rating\",\n      \"properties\": {\n        \"dtype\": \"number\",\n        \"std\": 0.2085873964321152,\n        \"min\": 3.4,\n        \"max\": 5.0,\n        \"num_unique_values\": 14,\n        \"samples\": [\n          4.1,\n          3.9,\n          4.6\n        ],\n        \"semantic_type\": \"\",\n        \"description\": \"\"\n      }\n    },\n    {\n      \"column\": \"Time_Minutes\",\n      \"properties\": {\n        \"dtype\": \"number\",\n        \"std\": 52.87233887466559,\n        \"min\": 10.0,\n        \"max\": 360.0,\n        \"num_unique_values\": 15,\n        \"samples\": [\n          180.0,\n          240.0,\n          15.0\n        ],\n        \"semantic_type\": \"\",\n        \"description\": \"\"\n      }\n    },\n    {\n      \"column\": \"Coordinate\",\n      \"properties\": {\n        \"dtype\": \"string\",\n        \"num_unique_values\": 437,\n        \"samples\": [\n          \"{'lat': -7.2654304, 'lng': 112.7503052}\",\n          \"{'lat': -6.3226133, 'lng': 106.8241871}\",\n          \"{'lat': -6.925963500000001, 'lng': 107.6354278}\"\n        ],\n        \"semantic_type\": \"\",\n        \"description\": \"\"\n      }\n    },\n    {\n      \"column\": \"Lat\",\n      \"properties\": {\n        \"dtype\": \"number\",\n        \"std\": 0.7272412184795901,\n        \"min\": -8.1978943,\n        \"max\": 1.07888,\n        \"num_unique_values\": 437,\n        \"samples\": [\n          -7.2654304,\n          -6.3226133,\n          -6.9259635\n        ],\n        \"semantic_type\": \"\",\n        \"description\": \"\"\n      }\n    },\n    {\n      \"column\": \"Long\",\n      \"properties\": {\n        \"dtype\": \"number\",\n        \"std\": 1.9628479600673732,\n        \"min\": 103.931398,\n        \"max\": 112.8216622,\n        \"num_unique_values\": 437,\n        \"samples\": [\n          112.7503052,\n          106.8241871,\n          107.6354278\n        ],\n        \"semantic_type\": \"\",\n        \"description\": \"\"\n      }\n    },\n    {\n      \"column\": \"Unnamed: 11\",\n      \"properties\": {\n        \"dtype\": \"number\",\n        \"std\": null,\n        \"min\": null,\n        \"max\": null,\n        \"num_unique_values\": 0,\n        \"samples\": [],\n        \"semantic_type\": \"\",\n        \"description\": \"\"\n      }\n    },\n    {\n      \"column\": \"Unnamed: 12\",\n      \"properties\": {\n        \"dtype\": \"number\",\n        \"std\": 126,\n        \"min\": 1,\n        \"max\": 437,\n        \"num_unique_values\": 437,\n        \"samples\": [],\n        \"semantic_type\": \"\",\n        \"description\": \"\"\n      }\n    }\n  ]\n}"
            }
          },
          "metadata": {},
          "execution_count": 11
        }
      ]
    },
    {
      "cell_type": "markdown",
      "source": [
        "Tahapan ini bertujuan untuk mengeksplorasi isi dan struktur dataset tourism_with_id.csv, yang berisi informasi lengkap tentang berbagai tempat wisata.\n",
        "- tourismwithid.info() digunakan untuk mengetahui struktur dataset:\n",
        "  - Dataset terdiri dari 437 entri dan 13 kolom, dengan informasi lengkap seperti:\n",
        "    - Place_Id, Place_Name, Description, Category, dan City untuk identifikasi dan klasifikasi tempat wisata.\n",
        "    - Price dan Rating memberikan informasi kuantitatif untuk keperluan analisis harga dan kualitas.\n",
        "    - Time_Minutes menggambarkan estimasi waktu kunjungan, namun hanya tersedia pada 205 entri (sisanya bernilai NaN).\n",
        "    - Coordinate, Lat, dan Long menyimpan informasi lokasi geografis tempat wisata.\n",
        "    - Kolom Unnamed: 11 sepenuhnya kosong, dan Unnamed: 12 tampaknya hanya menyimpan nomor urut atau indeks tambahan.\n",
        "\n",
        "- tourismwithid.head() menampilkan 5 baris pertama dari dataset:\n",
        "  - Terlihat bahwa data mencakup tempat-tempat populer seperti Monumen Nasional, Kota Tua, dan Dunia Fantasi, dengan deskripsi lengkap, harga tiket, durasi kunjungan, dan lokasi koordinat yang telah diparsing ke dalam kolom Lat dan Long.\n",
        "\n",
        "Dataset ini merupakan sumber informasi penting untuk pemetaan wisata, analisis preferensi pengguna, dan pengembangan sistem rekomendasi berbasis lokasi."
      ],
      "metadata": {
        "id": "a1jpfzwMljc3"
      }
    },
    {
      "cell_type": "code",
      "source": [
        "tourismwithid.isnull().sum()"
      ],
      "metadata": {
        "colab": {
          "base_uri": "https://localhost:8080/",
          "height": 492
        },
        "id": "fe7BnU9-PEMj",
        "outputId": "144cbcde-c300-46d5-9588-bdc3d58776e9"
      },
      "execution_count": null,
      "outputs": [
        {
          "output_type": "execute_result",
          "data": {
            "text/plain": [
              "Place_Id          0\n",
              "Place_Name        0\n",
              "Description       0\n",
              "Category          0\n",
              "City              0\n",
              "Price             0\n",
              "Rating            0\n",
              "Time_Minutes    232\n",
              "Coordinate        0\n",
              "Lat               0\n",
              "Long              0\n",
              "Unnamed: 11     437\n",
              "Unnamed: 12       0\n",
              "dtype: int64"
            ],
            "text/html": [
              "<div>\n",
              "<style scoped>\n",
              "    .dataframe tbody tr th:only-of-type {\n",
              "        vertical-align: middle;\n",
              "    }\n",
              "\n",
              "    .dataframe tbody tr th {\n",
              "        vertical-align: top;\n",
              "    }\n",
              "\n",
              "    .dataframe thead th {\n",
              "        text-align: right;\n",
              "    }\n",
              "</style>\n",
              "<table border=\"1\" class=\"dataframe\">\n",
              "  <thead>\n",
              "    <tr style=\"text-align: right;\">\n",
              "      <th></th>\n",
              "      <th>0</th>\n",
              "    </tr>\n",
              "  </thead>\n",
              "  <tbody>\n",
              "    <tr>\n",
              "      <th>Place_Id</th>\n",
              "      <td>0</td>\n",
              "    </tr>\n",
              "    <tr>\n",
              "      <th>Place_Name</th>\n",
              "      <td>0</td>\n",
              "    </tr>\n",
              "    <tr>\n",
              "      <th>Description</th>\n",
              "      <td>0</td>\n",
              "    </tr>\n",
              "    <tr>\n",
              "      <th>Category</th>\n",
              "      <td>0</td>\n",
              "    </tr>\n",
              "    <tr>\n",
              "      <th>City</th>\n",
              "      <td>0</td>\n",
              "    </tr>\n",
              "    <tr>\n",
              "      <th>Price</th>\n",
              "      <td>0</td>\n",
              "    </tr>\n",
              "    <tr>\n",
              "      <th>Rating</th>\n",
              "      <td>0</td>\n",
              "    </tr>\n",
              "    <tr>\n",
              "      <th>Time_Minutes</th>\n",
              "      <td>232</td>\n",
              "    </tr>\n",
              "    <tr>\n",
              "      <th>Coordinate</th>\n",
              "      <td>0</td>\n",
              "    </tr>\n",
              "    <tr>\n",
              "      <th>Lat</th>\n",
              "      <td>0</td>\n",
              "    </tr>\n",
              "    <tr>\n",
              "      <th>Long</th>\n",
              "      <td>0</td>\n",
              "    </tr>\n",
              "    <tr>\n",
              "      <th>Unnamed: 11</th>\n",
              "      <td>437</td>\n",
              "    </tr>\n",
              "    <tr>\n",
              "      <th>Unnamed: 12</th>\n",
              "      <td>0</td>\n",
              "    </tr>\n",
              "  </tbody>\n",
              "</table>\n",
              "</div><br><label><b>dtype:</b> int64</label>"
            ]
          },
          "metadata": {},
          "execution_count": 12
        }
      ]
    },
    {
      "cell_type": "markdown",
      "source": [
        "pada tourismwithid terdapat 437 data, memuat informasi detail tempat wisata. Kolom Time_Minutes memiliki banyak missing values (hanya 205 terisi). Kolom Unnamed: 11 tidak relevan, perlu dihapus."
      ],
      "metadata": {
        "id": "i8TKLG5bPzRu"
      }
    },
    {
      "cell_type": "code",
      "source": [
        "user.info()\n",
        "user.head()"
      ],
      "metadata": {
        "colab": {
          "base_uri": "https://localhost:8080/",
          "height": 380
        },
        "id": "CeLZaPJe2_y8",
        "outputId": "f97ac401-41ab-43be-8c47-1d8bf3052bef"
      },
      "execution_count": null,
      "outputs": [
        {
          "output_type": "stream",
          "name": "stdout",
          "text": [
            "<class 'pandas.core.frame.DataFrame'>\n",
            "RangeIndex: 300 entries, 0 to 299\n",
            "Data columns (total 3 columns):\n",
            " #   Column    Non-Null Count  Dtype \n",
            "---  ------    --------------  ----- \n",
            " 0   User_Id   300 non-null    int64 \n",
            " 1   Location  300 non-null    object\n",
            " 2   Age       300 non-null    int64 \n",
            "dtypes: int64(2), object(1)\n",
            "memory usage: 7.2+ KB\n"
          ]
        },
        {
          "output_type": "execute_result",
          "data": {
            "text/plain": [
              "   User_Id                   Location  Age\n",
              "0        1      Semarang, Jawa Tengah   20\n",
              "1        2         Bekasi, Jawa Barat   21\n",
              "2        3        Cirebon, Jawa Barat   23\n",
              "3        4         Bekasi, Jawa Barat   21\n",
              "4        5  Lampung, Sumatera Selatan   20"
            ],
            "text/html": [
              "\n",
              "  <div id=\"df-ac6edd30-22ce-468e-af33-9b22117ab4a8\" class=\"colab-df-container\">\n",
              "    <div>\n",
              "<style scoped>\n",
              "    .dataframe tbody tr th:only-of-type {\n",
              "        vertical-align: middle;\n",
              "    }\n",
              "\n",
              "    .dataframe tbody tr th {\n",
              "        vertical-align: top;\n",
              "    }\n",
              "\n",
              "    .dataframe thead th {\n",
              "        text-align: right;\n",
              "    }\n",
              "</style>\n",
              "<table border=\"1\" class=\"dataframe\">\n",
              "  <thead>\n",
              "    <tr style=\"text-align: right;\">\n",
              "      <th></th>\n",
              "      <th>User_Id</th>\n",
              "      <th>Location</th>\n",
              "      <th>Age</th>\n",
              "    </tr>\n",
              "  </thead>\n",
              "  <tbody>\n",
              "    <tr>\n",
              "      <th>0</th>\n",
              "      <td>1</td>\n",
              "      <td>Semarang, Jawa Tengah</td>\n",
              "      <td>20</td>\n",
              "    </tr>\n",
              "    <tr>\n",
              "      <th>1</th>\n",
              "      <td>2</td>\n",
              "      <td>Bekasi, Jawa Barat</td>\n",
              "      <td>21</td>\n",
              "    </tr>\n",
              "    <tr>\n",
              "      <th>2</th>\n",
              "      <td>3</td>\n",
              "      <td>Cirebon, Jawa Barat</td>\n",
              "      <td>23</td>\n",
              "    </tr>\n",
              "    <tr>\n",
              "      <th>3</th>\n",
              "      <td>4</td>\n",
              "      <td>Bekasi, Jawa Barat</td>\n",
              "      <td>21</td>\n",
              "    </tr>\n",
              "    <tr>\n",
              "      <th>4</th>\n",
              "      <td>5</td>\n",
              "      <td>Lampung, Sumatera Selatan</td>\n",
              "      <td>20</td>\n",
              "    </tr>\n",
              "  </tbody>\n",
              "</table>\n",
              "</div>\n",
              "    <div class=\"colab-df-buttons\">\n",
              "\n",
              "  <div class=\"colab-df-container\">\n",
              "    <button class=\"colab-df-convert\" onclick=\"convertToInteractive('df-ac6edd30-22ce-468e-af33-9b22117ab4a8')\"\n",
              "            title=\"Convert this dataframe to an interactive table.\"\n",
              "            style=\"display:none;\">\n",
              "\n",
              "  <svg xmlns=\"http://www.w3.org/2000/svg\" height=\"24px\" viewBox=\"0 -960 960 960\">\n",
              "    <path d=\"M120-120v-720h720v720H120Zm60-500h600v-160H180v160Zm220 220h160v-160H400v160Zm0 220h160v-160H400v160ZM180-400h160v-160H180v160Zm440 0h160v-160H620v160ZM180-180h160v-160H180v160Zm440 0h160v-160H620v160Z\"/>\n",
              "  </svg>\n",
              "    </button>\n",
              "\n",
              "  <style>\n",
              "    .colab-df-container {\n",
              "      display:flex;\n",
              "      gap: 12px;\n",
              "    }\n",
              "\n",
              "    .colab-df-convert {\n",
              "      background-color: #E8F0FE;\n",
              "      border: none;\n",
              "      border-radius: 50%;\n",
              "      cursor: pointer;\n",
              "      display: none;\n",
              "      fill: #1967D2;\n",
              "      height: 32px;\n",
              "      padding: 0 0 0 0;\n",
              "      width: 32px;\n",
              "    }\n",
              "\n",
              "    .colab-df-convert:hover {\n",
              "      background-color: #E2EBFA;\n",
              "      box-shadow: 0px 1px 2px rgba(60, 64, 67, 0.3), 0px 1px 3px 1px rgba(60, 64, 67, 0.15);\n",
              "      fill: #174EA6;\n",
              "    }\n",
              "\n",
              "    .colab-df-buttons div {\n",
              "      margin-bottom: 4px;\n",
              "    }\n",
              "\n",
              "    [theme=dark] .colab-df-convert {\n",
              "      background-color: #3B4455;\n",
              "      fill: #D2E3FC;\n",
              "    }\n",
              "\n",
              "    [theme=dark] .colab-df-convert:hover {\n",
              "      background-color: #434B5C;\n",
              "      box-shadow: 0px 1px 3px 1px rgba(0, 0, 0, 0.15);\n",
              "      filter: drop-shadow(0px 1px 2px rgba(0, 0, 0, 0.3));\n",
              "      fill: #FFFFFF;\n",
              "    }\n",
              "  </style>\n",
              "\n",
              "    <script>\n",
              "      const buttonEl =\n",
              "        document.querySelector('#df-ac6edd30-22ce-468e-af33-9b22117ab4a8 button.colab-df-convert');\n",
              "      buttonEl.style.display =\n",
              "        google.colab.kernel.accessAllowed ? 'block' : 'none';\n",
              "\n",
              "      async function convertToInteractive(key) {\n",
              "        const element = document.querySelector('#df-ac6edd30-22ce-468e-af33-9b22117ab4a8');\n",
              "        const dataTable =\n",
              "          await google.colab.kernel.invokeFunction('convertToInteractive',\n",
              "                                                    [key], {});\n",
              "        if (!dataTable) return;\n",
              "\n",
              "        const docLinkHtml = 'Like what you see? Visit the ' +\n",
              "          '<a target=\"_blank\" href=https://colab.research.google.com/notebooks/data_table.ipynb>data table notebook</a>'\n",
              "          + ' to learn more about interactive tables.';\n",
              "        element.innerHTML = '';\n",
              "        dataTable['output_type'] = 'display_data';\n",
              "        await google.colab.output.renderOutput(dataTable, element);\n",
              "        const docLink = document.createElement('div');\n",
              "        docLink.innerHTML = docLinkHtml;\n",
              "        element.appendChild(docLink);\n",
              "      }\n",
              "    </script>\n",
              "  </div>\n",
              "\n",
              "\n",
              "    <div id=\"df-d51aa06f-ca9b-4f3b-97f0-40d81ecd0ed5\">\n",
              "      <button class=\"colab-df-quickchart\" onclick=\"quickchart('df-d51aa06f-ca9b-4f3b-97f0-40d81ecd0ed5')\"\n",
              "                title=\"Suggest charts\"\n",
              "                style=\"display:none;\">\n",
              "\n",
              "<svg xmlns=\"http://www.w3.org/2000/svg\" height=\"24px\"viewBox=\"0 0 24 24\"\n",
              "     width=\"24px\">\n",
              "    <g>\n",
              "        <path d=\"M19 3H5c-1.1 0-2 .9-2 2v14c0 1.1.9 2 2 2h14c1.1 0 2-.9 2-2V5c0-1.1-.9-2-2-2zM9 17H7v-7h2v7zm4 0h-2V7h2v10zm4 0h-2v-4h2v4z\"/>\n",
              "    </g>\n",
              "</svg>\n",
              "      </button>\n",
              "\n",
              "<style>\n",
              "  .colab-df-quickchart {\n",
              "      --bg-color: #E8F0FE;\n",
              "      --fill-color: #1967D2;\n",
              "      --hover-bg-color: #E2EBFA;\n",
              "      --hover-fill-color: #174EA6;\n",
              "      --disabled-fill-color: #AAA;\n",
              "      --disabled-bg-color: #DDD;\n",
              "  }\n",
              "\n",
              "  [theme=dark] .colab-df-quickchart {\n",
              "      --bg-color: #3B4455;\n",
              "      --fill-color: #D2E3FC;\n",
              "      --hover-bg-color: #434B5C;\n",
              "      --hover-fill-color: #FFFFFF;\n",
              "      --disabled-bg-color: #3B4455;\n",
              "      --disabled-fill-color: #666;\n",
              "  }\n",
              "\n",
              "  .colab-df-quickchart {\n",
              "    background-color: var(--bg-color);\n",
              "    border: none;\n",
              "    border-radius: 50%;\n",
              "    cursor: pointer;\n",
              "    display: none;\n",
              "    fill: var(--fill-color);\n",
              "    height: 32px;\n",
              "    padding: 0;\n",
              "    width: 32px;\n",
              "  }\n",
              "\n",
              "  .colab-df-quickchart:hover {\n",
              "    background-color: var(--hover-bg-color);\n",
              "    box-shadow: 0 1px 2px rgba(60, 64, 67, 0.3), 0 1px 3px 1px rgba(60, 64, 67, 0.15);\n",
              "    fill: var(--button-hover-fill-color);\n",
              "  }\n",
              "\n",
              "  .colab-df-quickchart-complete:disabled,\n",
              "  .colab-df-quickchart-complete:disabled:hover {\n",
              "    background-color: var(--disabled-bg-color);\n",
              "    fill: var(--disabled-fill-color);\n",
              "    box-shadow: none;\n",
              "  }\n",
              "\n",
              "  .colab-df-spinner {\n",
              "    border: 2px solid var(--fill-color);\n",
              "    border-color: transparent;\n",
              "    border-bottom-color: var(--fill-color);\n",
              "    animation:\n",
              "      spin 1s steps(1) infinite;\n",
              "  }\n",
              "\n",
              "  @keyframes spin {\n",
              "    0% {\n",
              "      border-color: transparent;\n",
              "      border-bottom-color: var(--fill-color);\n",
              "      border-left-color: var(--fill-color);\n",
              "    }\n",
              "    20% {\n",
              "      border-color: transparent;\n",
              "      border-left-color: var(--fill-color);\n",
              "      border-top-color: var(--fill-color);\n",
              "    }\n",
              "    30% {\n",
              "      border-color: transparent;\n",
              "      border-left-color: var(--fill-color);\n",
              "      border-top-color: var(--fill-color);\n",
              "      border-right-color: var(--fill-color);\n",
              "    }\n",
              "    40% {\n",
              "      border-color: transparent;\n",
              "      border-right-color: var(--fill-color);\n",
              "      border-top-color: var(--fill-color);\n",
              "    }\n",
              "    60% {\n",
              "      border-color: transparent;\n",
              "      border-right-color: var(--fill-color);\n",
              "    }\n",
              "    80% {\n",
              "      border-color: transparent;\n",
              "      border-right-color: var(--fill-color);\n",
              "      border-bottom-color: var(--fill-color);\n",
              "    }\n",
              "    90% {\n",
              "      border-color: transparent;\n",
              "      border-bottom-color: var(--fill-color);\n",
              "    }\n",
              "  }\n",
              "</style>\n",
              "\n",
              "      <script>\n",
              "        async function quickchart(key) {\n",
              "          const quickchartButtonEl =\n",
              "            document.querySelector('#' + key + ' button');\n",
              "          quickchartButtonEl.disabled = true;  // To prevent multiple clicks.\n",
              "          quickchartButtonEl.classList.add('colab-df-spinner');\n",
              "          try {\n",
              "            const charts = await google.colab.kernel.invokeFunction(\n",
              "                'suggestCharts', [key], {});\n",
              "          } catch (error) {\n",
              "            console.error('Error during call to suggestCharts:', error);\n",
              "          }\n",
              "          quickchartButtonEl.classList.remove('colab-df-spinner');\n",
              "          quickchartButtonEl.classList.add('colab-df-quickchart-complete');\n",
              "        }\n",
              "        (() => {\n",
              "          let quickchartButtonEl =\n",
              "            document.querySelector('#df-d51aa06f-ca9b-4f3b-97f0-40d81ecd0ed5 button');\n",
              "          quickchartButtonEl.style.display =\n",
              "            google.colab.kernel.accessAllowed ? 'block' : 'none';\n",
              "        })();\n",
              "      </script>\n",
              "    </div>\n",
              "\n",
              "    </div>\n",
              "  </div>\n"
            ],
            "application/vnd.google.colaboratory.intrinsic+json": {
              "type": "dataframe",
              "variable_name": "user",
              "summary": "{\n  \"name\": \"user\",\n  \"rows\": 300,\n  \"fields\": [\n    {\n      \"column\": \"User_Id\",\n      \"properties\": {\n        \"dtype\": \"number\",\n        \"std\": 86,\n        \"min\": 1,\n        \"max\": 300,\n        \"num_unique_values\": 300,\n        \"samples\": [\n          204,\n          267,\n          153\n        ],\n        \"semantic_type\": \"\",\n        \"description\": \"\"\n      }\n    },\n    {\n      \"column\": \"Location\",\n      \"properties\": {\n        \"dtype\": \"category\",\n        \"num_unique_values\": 28,\n        \"samples\": [\n          \"Bogor, Jawa Barat\",\n          \"Purwakarat, Jawa Barat\",\n          \"Yogyakarta, DIY\"\n        ],\n        \"semantic_type\": \"\",\n        \"description\": \"\"\n      }\n    },\n    {\n      \"column\": \"Age\",\n      \"properties\": {\n        \"dtype\": \"number\",\n        \"std\": 6,\n        \"min\": 18,\n        \"max\": 40,\n        \"num_unique_values\": 23,\n        \"samples\": [\n          24,\n          34,\n          20\n        ],\n        \"semantic_type\": \"\",\n        \"description\": \"\"\n      }\n    }\n  ]\n}"
            }
          },
          "metadata": {},
          "execution_count": 13
        }
      ]
    },
    {
      "cell_type": "markdown",
      "source": [
        "pada user terdapat 300 data, informasi pengguna yang terdiri dari lokasi dan umur. Tidak ada missing values."
      ],
      "metadata": {
        "id": "WJQVtyoNQCau"
      }
    },
    {
      "cell_type": "code",
      "source": [
        "import matplotlib.pyplot as plt\n",
        "import seaborn as sns\n",
        "\n",
        "plt.figure(figsize=(8,5))\n",
        "sns.countplot(data=tourismwithid, x='City', order=tourismwithid['City'].value_counts().index)\n",
        "plt.title(\"Jumlah Tempat Wisata per Kota\")\n",
        "plt.ylabel(\"Jumlah\")\n",
        "plt.xlabel(\"Kota\")\n",
        "plt.xticks(rotation=45)\n",
        "plt.show()\n"
      ],
      "metadata": {
        "colab": {
          "base_uri": "https://localhost:8080/",
          "height": 538
        },
        "id": "Q-YeZ-TDGdgk",
        "outputId": "5db658c3-774d-4466-fc13-57abf6b13957"
      },
      "execution_count": null,
      "outputs": [
        {
          "output_type": "display_data",
          "data": {
            "text/plain": [
              "<Figure size 800x500 with 1 Axes>"
            ],
            "image/png": "[encoded data removed]"
          },
          "metadata": {}
        }
      ]
    },
    {
      "cell_type": "markdown",
      "source": [
        "**Distribusi Tempat Wisata berdasarkan Kota**\n",
        "\n",
        " Kota Yogyakarta memiliki jumlah tempat wisata terbanyak dalam dataset, diikuti oleh Jakarta dan Bandung."
      ],
      "metadata": {
        "id": "7sT107_NHqiV"
      }
    },
    {
      "cell_type": "code",
      "source": [
        "plt.figure(figsize=(10,6))\n",
        "sns.countplot(data=tourismwithid, y='Category', order=tourismwithid['Category'].value_counts().index)\n",
        "plt.title(\"Distribusi Kategori Tempat Wisata\")\n",
        "plt.xlabel(\"Jumlah\")\n",
        "plt.ylabel(\"Kategori\")\n",
        "plt.show()\n"
      ],
      "metadata": {
        "colab": {
          "base_uri": "https://localhost:8080/",
          "height": 530
        },
        "id": "xFXNa6TkHuB0",
        "outputId": "10433bd6-7648-4823-ae5f-9b2e6cc44d44"
      },
      "execution_count": null,
      "outputs": [
        {
          "output_type": "display_data",
          "data": {
            "text/plain": [
              "<Figure size 1000x600 with 1 Axes>"
            ],
            "image/png": "[encoded data removed]"
          },
          "metadata": {}
        }
      ]
    },
    {
      "cell_type": "markdown",
      "source": [
        "**Distribusi Kategori Tempat Wisata**\n",
        "\n",
        "Tempat hiburan dengan kategori alam dan budaya mendominasi, menunjukkan bahwa daya tarik utama di berbagai kota adalah wisata alam dan edukatif."
      ],
      "metadata": {
        "id": "ai_DT_-GHvX3"
      }
    },
    {
      "cell_type": "code",
      "source": [
        "plt.figure(figsize=(8,5))\n",
        "sns.histplot(data=tourismwithid, x='Rating', bins=20, kde=True)\n",
        "plt.title(\"Distribusi Rating Tempat Wisata\")\n",
        "plt.xlabel(\"Rating\")\n",
        "plt.ylabel(\"Jumlah\")\n",
        "plt.show()\n"
      ],
      "metadata": {
        "colab": {
          "base_uri": "https://localhost:8080/",
          "height": 487
        },
        "id": "nhM5gECoH0Kp",
        "outputId": "e3776794-e043-42b4-f89f-c4904df34ee3"
      },
      "execution_count": null,
      "outputs": [
        {
          "output_type": "display_data",
          "data": {
            "text/plain": [
              "<Figure size 800x500 with 1 Axes>"
            ],
            "image/png": "[encoded data removed]"
          },
          "metadata": {}
        }
      ]
    },
    {
      "cell_type": "markdown",
      "source": [
        "**Distribusi Rating Tempat Wisata**\n",
        "\n",
        "Sebagian besar tempat wisata memiliki rating tinggi di atas 4.0, menandakan tingkat kepuasan pengunjung cukup baik."
      ],
      "metadata": {
        "id": "H3uEaa1DH1Lm"
      }
    },
    {
      "cell_type": "code",
      "source": [
        "plt.figure(figsize=(8,5))\n",
        "sns.histplot(user['Age'], bins=15, kde=True)\n",
        "plt.title(\"Distribusi Umur Pengguna\")\n",
        "plt.xlabel(\"Umur\")\n",
        "plt.ylabel(\"Jumlah Pengguna\")\n",
        "plt.show()\n"
      ],
      "metadata": {
        "colab": {
          "base_uri": "https://localhost:8080/",
          "height": 487
        },
        "id": "sDFIiM-2H6UF",
        "outputId": "e7639be5-d553-4323-932c-ba7c345f0488"
      },
      "execution_count": null,
      "outputs": [
        {
          "output_type": "display_data",
          "data": {
            "text/plain": [
              "<Figure size 800x500 with 1 Axes>"
            ],
            "image/png": "[encoded data removed]"
          },
          "metadata": {}
        }
      ]
    },
    {
      "cell_type": "markdown",
      "source": [
        "**Distribusi Usia Pengguna**\n",
        "\n",
        "Mayoritas pengguna yang memberikan rating berada pada rentang usia 20–35 tahun, sesuai dengan kelompok usia yang paling aktif berwisata."
      ],
      "metadata": {
        "id": "dE6-BDFyH6Do"
      }
    },
    {
      "cell_type": "markdown",
      "source": [
        "# **Preprocessing Data**"
      ],
      "metadata": {
        "id": "DmMBy0zZOBDm"
      }
    },
    {
      "cell_type": "code",
      "source": [
        "tourismwithid.drop(columns=['Unnamed: 11', 'Unnamed: 12'], inplace=True)"
      ],
      "metadata": {
        "id": "4eK-fypvOUQF"
      },
      "execution_count": null,
      "outputs": []
    },
    {
      "cell_type": "markdown",
      "source": [
        "Pada dataset tourismwithid, terdapat kolom Unnamed: 11 yang seluruh isinya kosong dan Unnamed: 12 yang tampaknya tidak bermakna. Kedua kolom ini layaknya dihapus saja"
      ],
      "metadata": {
        "id": "0DSpgiEycKAu"
      }
    },
    {
      "cell_type": "code",
      "source": [
        "packagetourism.fillna('None', inplace=True)"
      ],
      "metadata": {
        "id": "NExaP65pf2tC"
      },
      "execution_count": null,
      "outputs": []
    },
    {
      "cell_type": "markdown",
      "source": [
        "pada dataset packagetourism, kolom Place_Tourism4 dan Place_Tourism5 memiliki nilai kosong (NaN) karena tidak semua paket mencantumkan hingga 5 destinasi. Untuk menjaga struktur data tetap konsisten, nilai kosong ini diganti dengan string ('None')"
      ],
      "metadata": {
        "id": "_CRt5WZ_gAtt"
      }
    },
    {
      "cell_type": "code",
      "source": [
        "tourismwithid['Time_Minutes'] = tourismwithid['Time_Minutes'].fillna(tourismwithid['Time_Minutes'].median())"
      ],
      "metadata": {
        "id": "kpjB104AgKFM"
      },
      "execution_count": null,
      "outputs": []
    },
    {
      "cell_type": "markdown",
      "source": [
        "pada dataset tourismwithid, kolom Time_Minutes memiliki banyak missing values (hanya 205 dari 437 baris yang terisi). Karena kolom ini berupa durasi yang bisa bermanfaat untuk filtering tempat wisata berdasarkan waktu kunjungan, maka missing values diisi dengan median"
      ],
      "metadata": {
        "id": "1syH_e0RgMEP"
      }
    },
    {
      "cell_type": "code",
      "source": [
        "packagetourism.info()\n",
        "tourismwithid.info()"
      ],
      "metadata": {
        "colab": {
          "base_uri": "https://localhost:8080/"
        },
        "id": "VjOZpa0Hg5Xy",
        "outputId": "58de4372-c08b-43cc-de84-c16511796862"
      },
      "execution_count": null,
      "outputs": [
        {
          "output_type": "stream",
          "name": "stdout",
          "text": [
            "<class 'pandas.core.frame.DataFrame'>\n",
            "RangeIndex: 100 entries, 0 to 99\n",
            "Data columns (total 7 columns):\n",
            " #   Column          Non-Null Count  Dtype \n",
            "---  ------          --------------  ----- \n",
            " 0   Package         100 non-null    int64 \n",
            " 1   City            100 non-null    object\n",
            " 2   Place_Tourism1  100 non-null    object\n",
            " 3   Place_Tourism2  100 non-null    object\n",
            " 4   Place_Tourism3  100 non-null    object\n",
            " 5   Place_Tourism4  100 non-null    object\n",
            " 6   Place_Tourism5  100 non-null    object\n",
            "dtypes: int64(1), object(6)\n",
            "memory usage: 5.6+ KB\n",
            "<class 'pandas.core.frame.DataFrame'>\n",
            "RangeIndex: 437 entries, 0 to 436\n",
            "Data columns (total 11 columns):\n",
            " #   Column        Non-Null Count  Dtype  \n",
            "---  ------        --------------  -----  \n",
            " 0   Place_Id      437 non-null    int64  \n",
            " 1   Place_Name    437 non-null    object \n",
            " 2   Description   437 non-null    object \n",
            " 3   Category      437 non-null    object \n",
            " 4   City          437 non-null    object \n",
            " 5   Price         437 non-null    int64  \n",
            " 6   Rating        437 non-null    float64\n",
            " 7   Time_Minutes  437 non-null    float64\n",
            " 8   Coordinate    437 non-null    object \n",
            " 9   Lat           437 non-null    float64\n",
            " 10  Long          437 non-null    float64\n",
            "dtypes: float64(4), int64(2), object(5)\n",
            "memory usage: 37.7+ KB\n"
          ]
        }
      ]
    },
    {
      "cell_type": "markdown",
      "source": [
        "dataset sudah bersih dan siap untuk di proses"
      ],
      "metadata": {
        "id": "e8O-dg3xhSjO"
      }
    },
    {
      "cell_type": "code",
      "source": [
        "#merge tourism rating dan user\n",
        "rating_user = tourismrating.merge(user, on='User_Id')\n",
        "\n",
        "#merge dengan tourism with id untuk menambahkan data tempat wisata\n",
        "final_data = rating_user.merge(tourismwithid, on='Place_Id')"
      ],
      "metadata": {
        "id": "lJyZlezMhSVM"
      },
      "execution_count": null,
      "outputs": []
    },
    {
      "cell_type": "markdown",
      "source": [
        "Penyatuan data antar tabel atau merging, ini digunakan untuk membangun sistem rekomendasi yang mempertimbangkan data pengguna, rating, dan informasi wisata, maka dilakukan penggabungan."
      ],
      "metadata": {
        "id": "NpSFU1kDh2cs"
      }
    },
    {
      "cell_type": "code",
      "source": [
        "tourism_jogja = tourismwithid[tourismwithid['City'] == 'Yogyakarta'].reset_index(drop=True)"
      ],
      "metadata": {
        "id": "9qzt9FHDr9G1"
      },
      "execution_count": null,
      "outputs": []
    },
    {
      "cell_type": "markdown",
      "source": [
        "Filter data hanya untuk kota Yogyakarta"
      ],
      "metadata": {
        "id": "VOGNjIhLpXNC"
      }
    },
    {
      "cell_type": "code",
      "source": [
        "tourism_jogja['combined_features'] = tourism_jogja['Description'] + ' ' + tourism_jogja['Category']"
      ],
      "metadata": {
        "id": "RwUv1om-cOqQ"
      },
      "execution_count": null,
      "outputs": []
    },
    {
      "cell_type": "markdown",
      "source": [
        "Gabungkan fitur deskriptif deskripsi dan kategori jadi satu string"
      ],
      "metadata": {
        "id": "M19Ou0I3maQm"
      }
    },
    {
      "cell_type": "markdown",
      "source": [
        "# **Model Development dengan Content Based Filtering (TF-IDF + Cosine Similarity)**"
      ],
      "metadata": {
        "id": "6uLQVGTEOUi5"
      }
    },
    {
      "cell_type": "markdown",
      "source": [
        "**Ekstraksi Fitur dengan TF-IDF**"
      ],
      "metadata": {
        "id": "RUv81X_Tm3wv"
      }
    },
    {
      "cell_type": "code",
      "source": [
        "#inisialisasi TF-IDF\n",
        "tfidf = TfidfVectorizer()\n",
        "\n",
        "#transformasi fitur gabungan menjadi matriks vektor\n",
        "tfidf_matrix = tfidf.fit_transform(tourism_jogja['combined_features'])"
      ],
      "metadata": {
        "id": "zxd1A48AOawJ"
      },
      "execution_count": null,
      "outputs": []
    },
    {
      "cell_type": "markdown",
      "source": [
        "Langkah ini bertujuan untuk mengubah data teks menjadi representasi numerik menggunakan metode TF-IDF (Term Frequency–Inverse Document Frequency), yang banyak digunakan dalam pemrosesan teks dan sistem rekomendasi berbasis konten.\n",
        "- TfidfVectorizer() digunakan untuk membuat objek vektorisasi TF-IDF dari pustaka sklearn.feature_extraction.text.\n",
        "  - TF-IDF menghitung seberapa penting sebuah kata dalam dokumen relatif terhadap seluruh korpus (kumpulan dokumen).\n",
        "  - Kata-kata umum yang muncul di banyak dokumen akan diberi bobot lebih rendah dibandingkan kata-kata unik.\n",
        "\n",
        "- tfidf.fit_transform(tourism_jogja['combined_features']) melakukan dua hal:\n",
        "  - Fit: Mempelajari kosakata dari data dalam kolom combined_features, yang berisi gabungan informasi penting dari tiap tempat wisata.\n",
        "  - Transform: Mengubah data teks menjadi matriks vektor sparse berbentuk numerik yang siap digunakan untuk penghitungan kemiripan atau pemodelan lebih lanjut.\n",
        "\n",
        "Hasil dari transformasi ini disimpan dalam tfidf_matrix, yang mewakili setiap tempat wisata dalam bentuk vektor fitur berdasarkan konten deskriptifnya."
      ],
      "metadata": {
        "id": "d72Ma74_m3IR"
      }
    },
    {
      "cell_type": "markdown",
      "source": [
        "**Hitung Cosine Similarity**"
      ],
      "metadata": {
        "id": "vg2rloAcm_Be"
      }
    },
    {
      "cell_type": "code",
      "source": [
        "#hitung kemiripan antar tempat wisata\n",
        "cosine_sim = cosine_similarity(tfidf_matrix, tfidf_matrix)"
      ],
      "metadata": {
        "id": "yP32Sd6GnBrf"
      },
      "execution_count": null,
      "outputs": []
    },
    {
      "cell_type": "markdown",
      "source": [
        "Setelah data teks direpresentasikan dalam bentuk vektor menggunakan TF-IDF, langkah selanjutnya adalah menghitung kemiripan antar tempat wisata menggunakan cosine similarity."
      ],
      "metadata": {
        "id": "-H9XPTHlnK0P"
      }
    },
    {
      "cell_type": "markdown",
      "source": [
        "**Membuat Fungsi Rekomendasi**"
      ],
      "metadata": {
        "id": "LAWzVhsWnRTx"
      }
    },
    {
      "cell_type": "code",
      "source": [
        "#reset index untuk pencarian berdasarkan nama tempat\n",
        "indices = pd.Series(tourism_jogja.index, index=tourism_jogja['Place_Name']).drop_duplicates()\n",
        "\n",
        "def recommend_places(place_name, num_recommendations=5):\n",
        "    if place_name not in indices:\n",
        "        return f\"Tempat '{place_name}' tidak ditemukan di data Yogyakarta.\"\n",
        "\n",
        "    #dapatkan indeks tempat\n",
        "    idx = indices[place_name]\n",
        "\n",
        "    #dapatkan skor kemiripan\n",
        "    sim_scores = list(enumerate(cosine_sim[idx]))\n",
        "\n",
        "    #urutkan berdasarkan skor tertinggi\n",
        "    sim_scores = sorted(sim_scores, key=lambda x: x[1], reverse=True)\n",
        "\n",
        "    #ambil top rekomendasi (lewatkan indeks 0 karena itu adalah dirinya sendiri)\n",
        "    sim_scores = sim_scores[1:num_recommendations+1]\n",
        "\n",
        "    #ambil indeks tempat dari rekomendasi\n",
        "    place_indices = [i[0] for i in sim_scores]\n",
        "\n",
        "    #tampilkan hasil\n",
        "    return tourism_jogja.iloc[place_indices][['Place_Name', 'City', 'Category', 'Rating']]"
      ],
      "metadata": {
        "id": "YRbLkj8bnT4S"
      },
      "execution_count": null,
      "outputs": []
    },
    {
      "cell_type": "markdown",
      "source": [
        "Langkah diatas bertujuan untuk mengatur ulang index agar pencarian tempat wisata berdasarkan nama tempat menjadi lebih efisien. Kita membuat Series baru bernama indices yang berisi pasangan antara nama tempat dan index barisnya.\n",
        "\n",
        "Fungsi diatas, bernama recommend_places. Fungsi ini digunakan untuk merekomendasikan tempat wisata yang mirip berdasarkan nama tempat yang diberikan. Rekomendasi dihitung berdasarkan skor kemiripan cosine similarity dari fitur-fitur tempat wisata.\n"
      ],
      "metadata": {
        "id": "tM2slYwAC_TU"
      }
    },
    {
      "cell_type": "code",
      "source": [
        "#mendapatkan rekomendasi wisata yang mirip dengan 'Nol Kilometer Jl.Malioboro'\n",
        "print(recommend_places('Nol Kilometer Jl.Malioboro', num_recommendations=5))"
      ],
      "metadata": {
        "colab": {
          "base_uri": "https://localhost:8080/"
        },
        "id": "Eot58i9JnqFy",
        "outputId": "5d592590-9812-4397-a2b4-33f9d61ba326"
      },
      "execution_count": null,
      "outputs": [
        {
          "output_type": "stream",
          "name": "stdout",
          "text": [
            "                      Place_Name        City            Category  Rating\n",
            "121             Wisata Kaliurang  Yogyakarta          Cagar Alam     4.4\n",
            "103              Pantai Sadranan  Yogyakarta              Bahari     4.6\n",
            "27      Bukit Bintang Yogyakarta  Yogyakarta       Taman Hiburan     4.5\n",
            "50   Kawasan Wisata Sosrowijayan  Yogyakarta  Pusat Perbelanjaan     4.0\n",
            "65           Wisata Kraton Jogja  Yogyakarta              Budaya     4.7\n"
          ]
        }
      ]
    },
    {
      "cell_type": "markdown",
      "source": [
        "Pada bagian ini, kita akan menguji fungsi rekomendasi dengan memberikan input nama tempat “Nol Kilometer Jl.Malioboro”. Fungsi akan mengembalikan 5 tempat wisata lain yang memiliki kemiripan tertinggi berdasarkan perhitungan cosine similarity."
      ],
      "metadata": {
        "id": "0ico0DpcC_wt"
      }
    },
    {
      "cell_type": "code",
      "source": [
        "from sklearn.metrics import mean_absolute_error\n",
        "\n",
        "def evaluate_recommendations(recommended_ids, relevant_ids, all_place_ids, predicted_ratings, k=5):\n",
        "    # Precision@K\n",
        "    recommended_set = set(recommended_ids[:k])\n",
        "    relevant_set = set(relevant_ids)\n",
        "\n",
        "    true_positives = recommended_set.intersection(relevant_set)\n",
        "    precision = len(true_positives) / k if k > 0 else 0\n",
        "\n",
        "    # Recall@K\n",
        "    recall = len(true_positives) / len(relevant_set) if relevant_set else 0\n",
        "\n",
        "    # F1-Score@K\n",
        "    if precision + recall == 0:\n",
        "        f1 = 0\n",
        "    else:\n",
        "        f1 = 2 * (precision * recall) / (precision + recall)\n",
        "\n",
        "    # MAE (Mean Absolute Error)\n",
        "    # Perhitungan MAE dengan memadukan prediksi rating dan nilai relevansi\n",
        "    # (Misalnya, jika kita memiliki prediksi rating dan relevansi untuk masing-masing tempat wisata)\n",
        "    true_ratings = [tourism_jogja[tourism_jogja['Place_Name'] == place]['Rating'].values[0] for place in recommended_ids[:k]]\n",
        "    mae = mean_absolute_error(true_ratings, predicted_ratings[:k])\n",
        "\n",
        "    return precision, recall, f1, mae\n"
      ],
      "metadata": {
        "id": "kaliF3mtCVC_"
      },
      "execution_count": null,
      "outputs": []
    },
    {
      "cell_type": "markdown",
      "source": [
        "Fungsi evaluate_recommendations digunakan untuk mengevaluasi kinerja sistem rekomendasi tempat wisata. Evaluasi dilakukan dengan menghitung nilai Precision@K, Recall@K, F1-Score@K, dan Mean Absolute Error (MAE) berdasarkan daftar tempat yang direkomendasikan, tempat yang relevan, semua ID tempat, serta rating yang diprediksi."
      ],
      "metadata": {
        "id": "AkAE1Yp-DAVZ"
      }
    },
    {
      "cell_type": "code",
      "source": [
        "#mengambil Place_Name dari hasil rekomendasi\n",
        "recommended_places = recommend_places('Nol Kilometer Jl.Malioboro', num_recommendations=5)\n",
        "\n",
        "#mengambil Place_Name dari hasil rekomendasi\n",
        "recommended_ids = recommended_places['Place_Name'].values\n",
        "\n",
        "#mengambil Place_Id yang relevan berdasarkan data rating\n",
        "relevant_ids = tourism_jogja[tourism_jogja['Place_Name'].isin(recommended_ids)]['Place_Name'].values\n",
        "\n",
        "#prediksi rating untuk tempat-tempat yang relevan\n",
        "predicted_ratings = tourism_jogja[tourism_jogja['Place_Name'].isin(recommended_ids)]['Rating'].values\n",
        "\n",
        "#evaluasi dengan Precision@5, Recall@5, dan MAE\n",
        "precision, recall, f1, mae = evaluate_recommendations(recommended_ids, relevant_ids, tourism_jogja['Place_Name'].values, predicted_ratings, k=5)\n",
        "\n",
        "# menampilkan hasil evaluasi\n",
        "print(f\"Precision@5: {precision:.4f}\")\n",
        "print(f\"Recall@5: {recall:.4f}\")\n",
        "print(f\"F1-Score@5: {f1:.4f}\")\n",
        "print(f\"MAE: {mae:.4f}\")\n"
      ],
      "metadata": {
        "colab": {
          "base_uri": "https://localhost:8080/"
        },
        "id": "WUKHORPPCXc3",
        "outputId": "06d81932-4cfe-4092-d392-81eace3946b1"
      },
      "execution_count": null,
      "outputs": [
        {
          "output_type": "stream",
          "name": "stdout",
          "text": [
            "Precision@5: 1.0000\n",
            "Recall@5: 1.0000\n",
            "F1-Score@5: 1.0000\n",
            "MAE: 0.3600\n"
          ]
        }
      ]
    },
    {
      "cell_type": "markdown",
      "source": [
        "Pada bagian ini, dilakukan evaluasi terhadap hasil rekomendasi dari sistem berbasis kemiripan tempat wisata. Langkah-langkah yang dilakukan meliputi:\n",
        "- Mengambil daftar nama tempat hasil rekomendasi dari fungsi recommend_places.\n",
        "- Menentukan tempat-tempat yang dianggap relevan dari data asli berdasarkan nama tempat.\n",
        "- Mengambil prediksi rating untuk tempat-tempat tersebut.\n",
        "- Menghitung metrik evaluasi berupa Precision@5, Recall@5, F1-Score@5, dan MAE menggunakan fungsi evaluate_recommendations.\n",
        "- Menampilkan hasil evaluasi tersebut.\n",
        "\n",
        "Berdasarkan hasil evaluasi:\n",
        "- Precision@5 = 1.0000: Semua tempat yang direkomendasikan terbukti relevan\n",
        "- Recall@5 = 1.0000: Semua tempat yang relevan berhasil direkomendasikan.\n",
        "- F1-Score@5 = 1.0000: Kombinasi presisi dan recall sangat optimal.\n",
        "- MAE = 0.3600: Perbedaan rata-rata antara rating aktual dan prediksi relatif kecil, menunjukkan akurasi rating yang baik.\n"
      ],
      "metadata": {
        "id": "OIedhagQDA-8"
      }
    },
    {
      "cell_type": "markdown",
      "source": [
        "# **Model Development dengan Collaborative Filtering berbasis Neural Network**"
      ],
      "metadata": {
        "id": "-Q19iLFdyrW_"
      }
    },
    {
      "cell_type": "markdown",
      "source": [
        "**Persiapan Data**"
      ],
      "metadata": {
        "id": "_BWalhMzDKvb"
      }
    },
    {
      "cell_type": "code",
      "source": [
        "#mapping user & item ID\n",
        "user_ids = tourismrating['User_Id'].unique().tolist()\n",
        "place_ids = tourismrating['Place_Id'].unique().tolist()\n",
        "\n",
        "user2user_encoded = {x: i for i, x in enumerate(user_ids)}\n",
        "place2place_encoded = {x: i for i, x in enumerate(place_ids)}\n",
        "\n",
        "#encode\n",
        "tourismrating['user'] = tourismrating['User_Id'].map(user2user_encoded)\n",
        "tourismrating['place'] = tourismrating['Place_Id'].map(place2place_encoded)\n",
        "num_users = len(user2user_encoded)\n",
        "num_items = len(place2place_encoded)\n",
        "\n",
        "#prepare training data\n",
        "X = tourismrating[['user', 'place']].values\n",
        "y = tourismrating['Place_Ratings'].values.astype(np.float32)\n",
        "\n",
        "#normalize ratings to 0-1 (since we use sigmoid)\n",
        "y = y / 5.0\n",
        "\n",
        "#train-test split\n",
        "X_train, X_test, y_train, y_test = train_test_split(X, y, test_size=0.2, random_state=42)"
      ],
      "metadata": {
        "id": "OIjP3Ol5y06h"
      },
      "execution_count": null,
      "outputs": []
    },
    {
      "cell_type": "markdown",
      "source": [
        "Langkah ini bertujuan untuk menyiapkan data sebelum digunakan dalam model rekomendasi berbasis pembelajaran mesin.\n",
        "\n",
        "1. Mapping User dan Place ke ID Numerik\n",
        "- User_Id dan Place_Id awalnya berupa nilai numerik namun tidak berurutan. Agar dapat digunakan dalam model embedding, nilai-nilai ini dikonversi ke ID yang berurutan mulai dari 0.\n",
        "- Dua mapping dibuat:\n",
        "  - user2user_encoded: memetakan setiap User_Id ke indeks unik.\n",
        "  - place2place_encoded: memetakan setiap Place_Id ke indeks unik.\n",
        "- Kemudian, kolom baru user dan place ditambahkan ke tourismrating, berisi hasil pemetaan tersebut.\n",
        "\n",
        "2. Menentukan Jumlah Pengguna dan Tempat Wisata\n",
        "- num_users dan num_items merepresentasikan jumlah unik pengguna dan tempat wisata, yang akan digunakan untuk mendefinisikan dimensi dalam model.\n",
        "\n",
        "3. Menyiapkan Data Pelatihan\n",
        "- X: pasangan (user, place) yang menjadi input ke model.\n",
        "- y: skor Place_Ratings yang diberikan oleh pengguna terhadap tempat wisata, yang menjadi target/output dari model.\n",
        "\n",
        "4. Normalisasi Skor Penilaian\n",
        "- Karena model akan menggunakan fungsi aktivasi sigmoid, skor penilaian (1–5) dinormalisasi ke rentang 0–1 dengan cara membagi nilai dengan 5.\n",
        "\n",
        "5. Membagi Data Menjadi Data Latih dan Uji\n",
        "- Dataset dibagi menjadi 80% data pelatihan dan 20% data pengujian menggunakan train_test_split.\n",
        "\n",
        "Langkah ini penting agar model rekomendasi dapat belajar dari pola interaksi pengguna dan mengevaluasi performa secara objektif."
      ],
      "metadata": {
        "id": "Sdlp9MfXnw3B"
      }
    },
    {
      "cell_type": "markdown",
      "source": [
        "**Model Rekomendasi**"
      ],
      "metadata": {
        "id": "VFNMnm3LDRSy"
      }
    },
    {
      "cell_type": "code",
      "source": [
        "class RecommenderNet(tf.keras.Model):\n",
        "    def __init__(self, num_users, num_items, embedding_size=50, **kwargs):\n",
        "        super(RecommenderNet, self).__init__(**kwargs)\n",
        "        self.user_embedding = layers.Embedding(\n",
        "            input_dim=num_users,\n",
        "            output_dim=embedding_size,\n",
        "            embeddings_initializer='he_normal',\n",
        "            embeddings_regularizer=tf.keras.regularizers.l2(1e-6)\n",
        "        )\n",
        "        self.item_embedding = layers.Embedding(\n",
        "            input_dim=num_items,\n",
        "            output_dim=embedding_size,\n",
        "            embeddings_initializer='he_normal',\n",
        "            embeddings_regularizer=tf.keras.regularizers.l2(1e-6)\n",
        "        )\n",
        "        self.dot = layers.Dot(axes=1)\n",
        "\n",
        "    def call(self, inputs):\n",
        "        user_vector = self.user_embedding(inputs[:, 0])\n",
        "        item_vector = self.item_embedding(inputs[:, 1])\n",
        "        dot_user_item = self.dot([user_vector, item_vector])\n",
        "        return tf.nn.sigmoid(dot_user_item)"
      ],
      "metadata": {
        "id": "rKqX1BwC6ixH"
      },
      "execution_count": null,
      "outputs": []
    },
    {
      "cell_type": "markdown",
      "source": [
        "1. Inisialisasi Kelas\n",
        "- RecommenderNet mewarisi dari tf.keras.Model, memungkinkan kita untuk membangun model berbasis Keras dengan kontrol penuh atas proses perhitungan.\n",
        "\n",
        "2. Komponen Utama dalam Model\n",
        "- Embedding Layer untuk Pengguna:\n",
        "  - self.user_embedding: Layer embedding untuk pengguna, yang menerima ID pengguna dan memetakan ID tersebut ke vektor berdimensi embedding_size (default 50).\n",
        "  - Penggunaan embeddings_initializer='he_normal' untuk inisialisasi bobot dan embeddings_regularizer=tf.keras.regularizers.l2(1e-6) untuk regularisasi L2.\n",
        "- Embedding Layer untuk Item:\n",
        "  -self.item_embedding: Layer embedding untuk tempat wisata, yang menerima ID tempat wisata dan memetakan ID tersebut ke vektor dengan dimensi yang sama.\n",
        "- Dot Product:\n",
        "  - self.dot: Layer Dot(axes=1) menghitung produk titik antara vektor pengguna dan vektor tempat wisata. Produk titik ini menunjukkan seberapa mirip interaksi antara pengguna dan tempat wisata tersebut.\n",
        "\n",
        "3. Metode Call\n",
        "- call: Proses input dilakukan dalam metode call. Input berupa pasangan (user, place) yang akan diteruskan ke layer embedding untuk mendapatkan vektor pengguna dan vektor tempat wisata.\n",
        "  - inputs[:, 0]: ID pengguna.\n",
        "  - inputs[:, 1]: ID tempat wisata.\n",
        "- Kemudian, produk titik dari kedua vektor dihitung, dan hasilnya diproses melalui fungsi aktivasi sigmoid untuk menghasilkan probabilitas skor rekomendasi antara 0 dan 1.\n",
        "\n",
        "Model ini akan digunakan untuk memprediksi apakah pengguna akan memberikan rating tinggi pada tempat wisata tertentu berdasarkan pola interaksi sebelumnya."
      ],
      "metadata": {
        "id": "YPdsQxedoOBK"
      }
    },
    {
      "cell_type": "markdown",
      "source": [
        "**Pelatihan Model dengan RMSE**"
      ],
      "metadata": {
        "id": "mu9J4p27DUsW"
      }
    },
    {
      "cell_type": "code",
      "source": [
        "model = RecommenderNet(num_users, num_items)\n",
        "model.compile(\n",
        "    loss='binary_crossentropy',\n",
        "    optimizer='adam',\n",
        "    metrics=[tf.keras.metrics.RootMeanSquaredError(name='rmse')]\n",
        ")\n",
        "history = model.fit(\n",
        "    X_train, y_train,\n",
        "    epochs=10,\n",
        "    batch_size=64,\n",
        "    validation_data=(X_test, y_test)\n",
        ")"
      ],
      "metadata": {
        "colab": {
          "base_uri": "https://localhost:8080/"
        },
        "id": "63HtbKdq2ELX",
        "outputId": "b97c8b20-fb36-4b3c-e7e9-b3eaf40d2be6"
      },
      "execution_count": null,
      "outputs": [
        {
          "output_type": "stream",
          "name": "stdout",
          "text": [
            "Epoch 1/10\n",
            "\u001b[1m125/125\u001b[0m \u001b[32m━━━━━━━━━━━━━━━━━━━━\u001b[0m\u001b[37m\u001b[0m \u001b[1m2s\u001b[0m 7ms/step - loss: 0.6937 - rmse: 0.2991 - val_loss: 0.6937 - val_rmse: 0.2947\n",
            "Epoch 2/10\n",
            "\u001b[1m125/125\u001b[0m \u001b[32m━━━━━━━━━━━━━━━━━━━━\u001b[0m\u001b[37m\u001b[0m \u001b[1m1s\u001b[0m 3ms/step - loss: 0.6887 - rmse: 0.2942 - val_loss: 0.6936 - val_rmse: 0.2946\n",
            "Epoch 3/10\n",
            "\u001b[1m125/125\u001b[0m \u001b[32m━━━━━━━━━━━━━━━━━━━━\u001b[0m\u001b[37m\u001b[0m \u001b[1m1s\u001b[0m 3ms/step - loss: 0.6831 - rmse: 0.2896 - val_loss: 0.6935 - val_rmse: 0.2945\n",
            "Epoch 4/10\n",
            "\u001b[1m125/125\u001b[0m \u001b[32m━━━━━━━━━━━━━━━━━━━━\u001b[0m\u001b[37m\u001b[0m \u001b[1m1s\u001b[0m 3ms/step - loss: 0.6769 - rmse: 0.2833 - val_loss: 0.6934 - val_rmse: 0.2943\n",
            "Epoch 5/10\n",
            "\u001b[1m125/125\u001b[0m \u001b[32m━━━━━━━━━━━━━━━━━━━━\u001b[0m\u001b[37m\u001b[0m \u001b[1m0s\u001b[0m 3ms/step - loss: 0.6686 - rmse: 0.2772 - val_loss: 0.6932 - val_rmse: 0.2942\n",
            "Epoch 6/10\n",
            "\u001b[1m125/125\u001b[0m \u001b[32m━━━━━━━━━━━━━━━━━━━━\u001b[0m\u001b[37m\u001b[0m \u001b[1m1s\u001b[0m 3ms/step - loss: 0.6580 - rmse: 0.2702 - val_loss: 0.6932 - val_rmse: 0.2940\n",
            "Epoch 7/10\n",
            "\u001b[1m125/125\u001b[0m \u001b[32m━━━━━━━━━━━━━━━━━━━━\u001b[0m\u001b[37m\u001b[0m \u001b[1m1s\u001b[0m 3ms/step - loss: 0.6462 - rmse: 0.2578 - val_loss: 0.6932 - val_rmse: 0.2940\n",
            "Epoch 8/10\n",
            "\u001b[1m125/125\u001b[0m \u001b[32m━━━━━━━━━━━━━━━━━━━━\u001b[0m\u001b[37m\u001b[0m \u001b[1m0s\u001b[0m 3ms/step - loss: 0.6324 - rmse: 0.2448 - val_loss: 0.6935 - val_rmse: 0.2941\n",
            "Epoch 9/10\n",
            "\u001b[1m125/125\u001b[0m \u001b[32m━━━━━━━━━━━━━━━━━━━━\u001b[0m\u001b[37m\u001b[0m \u001b[1m0s\u001b[0m 3ms/step - loss: 0.6176 - rmse: 0.2293 - val_loss: 0.6941 - val_rmse: 0.2944\n",
            "Epoch 10/10\n",
            "\u001b[1m125/125\u001b[0m \u001b[32m━━━━━━━━━━━━━━━━━━━━\u001b[0m\u001b[37m\u001b[0m \u001b[1m1s\u001b[0m 3ms/step - loss: 0.6025 - rmse: 0.2133 - val_loss: 0.6950 - val_rmse: 0.2950\n"
          ]
        }
      ]
    },
    {
      "cell_type": "markdown",
      "source": [
        "1. Proses Pelatihan:\n",
        "- Model ini dilatih selama 10 epoch dengan menggunakan batch size 64.\n",
        "- Pada setiap epoch, kita melihat dua metrik yang digunakan: loss dan root mean squared error (RMSE).\n",
        "\n",
        "2. Loss Function:\n",
        "- Loss: Model menggunakan binary crossentropy sebagai fungsi kerugian, yang biasa digunakan dalam masalah klasifikasi biner.\n",
        "- Pada epoch pertama, loss dimulai pada 0.6937 dan berangsur-angsur menurun hingga mencapai 0.6025 pada epoch ke-10. Penurunan loss ini menunjukkan bahwa model secara bertahap belajar untuk memprediksi dengan lebih akurat.\n",
        "\n",
        "3. RMSE (Root Mean Squared Error):\n",
        "- RMSE menunjukkan seberapa besar rata-rata kesalahan prediksi model terhadap nilai aktual. Nilai RMSE yang lebih rendah menunjukkan prediksi yang lebih baik.\n",
        "- Pada epoch pertama, RMSE adalah 0.2991, dan secara perlahan menurun hingga 0.2133 pada epoch ke-10.\n",
        "- Nilai RMSE yang semakin rendah menandakan perbaikan dalam prediksi.\n",
        "\n",
        "4. Validation Metrics:\n",
        "- Validation loss dan validation RMSE menunjukkan metrik pada data validasi, yang memberikan gambaran mengenai kinerja model di luar data pelatihan.\n",
        "- Meskipun model mengalami penurunan loss dan RMSE pada data pelatihan, nilai validation loss dan validation RMSE tidak menunjukkan banyak perubahan. Validation RMSE tetap di sekitar 0.2950i."
      ],
      "metadata": {
        "id": "GQFbWP_Uo7kG"
      }
    },
    {
      "cell_type": "markdown",
      "source": [
        "**Visualisasi Metrik**"
      ],
      "metadata": {
        "id": "H_7f5vEGDXxl"
      }
    },
    {
      "cell_type": "code",
      "source": [
        "plt.plot(history.history['rmse'])\n",
        "plt.plot(history.history['val_rmse'])\n",
        "plt.title('Model RMSE per Epoch')\n",
        "plt.ylabel('Root Mean Squared Error')\n",
        "plt.xlabel('Epoch')\n",
        "plt.legend(['Train', 'Validation'], loc='upper right')\n",
        "plt.grid(True)\n",
        "plt.show()"
      ],
      "metadata": {
        "colab": {
          "base_uri": "https://localhost:8080/",
          "height": 472
        },
        "id": "OAT_t4160xi7",
        "outputId": "e5e66f2d-10ce-4e72-8fc8-9ec61230b616"
      },
      "execution_count": null,
      "outputs": [
        {
          "output_type": "display_data",
          "data": {
            "text/plain": [
              "<Figure size 640x480 with 1 Axes>"
            ],
            "image/png": "[encoded data removed]"
          },
          "metadata": {}
        }
      ]
    },
    {
      "cell_type": "markdown",
      "source": [
        "Berikut adalah grafik yang menunjukkan Root Mean Squared Error (RMSE) pada setiap epoch selama proses pelatihan:\n",
        "- RMSE pelatihan (Train) ditunjukkan oleh garis pertama.\n",
        "- RMSE validasi (Validation) ditunjukkan oleh garis kedua."
      ],
      "metadata": {
        "id": "RL8OqVoRplah"
      }
    },
    {
      "cell_type": "markdown",
      "source": [
        "**Mendapatkan Rekomendasi Tempat Wisata**"
      ],
      "metadata": {
        "id": "S1dnP_tHzW-9"
      }
    },
    {
      "cell_type": "code",
      "source": [
        "def recommend_places(model, user_id, tourismrating, place_df, n_recommendations=5):\n",
        "    #encode user_id\n",
        "    user_encoded = user2user_encoded[user_id]\n",
        "\n",
        "    #semua tempat yang tersedia\n",
        "    all_places = set(place_df['Place_Id'].values)\n",
        "\n",
        "    #daftar tempat yang telah dinilai oleh pengguna tersebut\n",
        "    rated_places = tourismrating[tourismrating['User_Id'] == user_id]['Place_Id'].values\n",
        "\n",
        "    #menghapus tempat yang sudah dinilai oleh pengguna dari daftar tempat yang tersedia\n",
        "    places_to_predict = list(all_places - set(rated_places))\n",
        "\n",
        "    #menyiapkan input untuk model (user dan tempat yang belum dinilai)\n",
        "    user_array = np.full(len(places_to_predict), user_encoded)\n",
        "    place_array = [place2place_encoded[place] for place in places_to_predict]\n",
        "\n",
        "    X_new = np.vstack((user_array, place_array)).T\n",
        "\n",
        "    #prediksi rating untuk tempat yang belum dinilai\n",
        "    predicted_ratings = model.predict(X_new)\n",
        "\n",
        "    #mengurutkan tempat berdasarkan prediksi rating\n",
        "    top_indices = np.argsort(predicted_ratings.flatten())[::-1][:n_recommendations]\n",
        "\n",
        "    #menampilkan rekomendasi\n",
        "    recommendations = place_df[place_df['Place_Id'].isin(places_to_predict)].iloc[top_indices]\n",
        "\n",
        "    return recommendations[['Place_Name', 'City', 'Category', 'Rating']]"
      ],
      "metadata": {
        "id": "gZrrnYw78mU_"
      },
      "execution_count": null,
      "outputs": []
    },
    {
      "cell_type": "markdown",
      "source": [
        "Fungsi di atas digunakan untuk memberikan rekomendasi tempat wisata kepada pengguna berdasarkan model yang sudah dilatih. Berikut adalah penjelasan langkah-langkahnya:\n",
        "- Pengkodean ID pengguna: ID pengguna yang diberikan akan dikodekan ke dalam format yang digunakan oleh model.\n",
        "- Mendapatkan semua tempat wisata yang tersedia: Mengambil semua ID tempat wisata yang ada dari DataFrame place_df.\n",
        "- Mendapatkan tempat yang sudah dinilai oleh pengguna: Menyaring tempat wisata yang sudah diberi rating oleh pengguna dari DataFrame tourismrating.\n",
        "- Menyaring tempat yang belum dinilai: Menghapus tempat wisata yang sudah dinilai oleh pengguna dari daftar tempat yang tersedia.\n",
        "- Menyiapkan input untuk model: Menyusun data input yang akan diberikan ke model, yaitu ID pengguna dan ID tempat wisata yang belum dinilai.\n",
        "- Memprediksi rating: Menggunakan model untuk memprediksi rating tempat wisata yang belum dinilai oleh pengguna.\n",
        "- Mengurutkan tempat berdasarkan rating yang diprediksi: Menyortir tempat wisata berdasarkan rating yang diprediksi, dari yang tertinggi hingga terendah.\n",
        "- Menampilkan rekomendasi: Menampilkan tempat wisata sesuai jumlah yang ditentukan berdasarkan rating prediksi.\n",
        "\n",
        "Fungsi ini akan mengembalikan nama tempat, kota, dan kategori tempat wisata sebagai rekomendasi."
      ],
      "metadata": {
        "id": "w89h1tqppuq7"
      }
    },
    {
      "cell_type": "code",
      "source": [
        "print(recommend_places(model, user_id=1, tourismrating=tourismrating, place_df=tourism_jogja, n_recommendations=10))"
      ],
      "metadata": {
        "colab": {
          "base_uri": "https://localhost:8080/"
        },
        "id": "Nx4_fAeBGX8e",
        "outputId": "3d522bd5-1e31-44d4-b8d6-94b7f5f64153"
      },
      "execution_count": null,
      "outputs": [
        {
          "output_type": "stream",
          "name": "stdout",
          "text": [
            "\u001b[1m4/4\u001b[0m \u001b[32m━━━━━━━━━━━━━━━━━━━━\u001b[0m\u001b[37m\u001b[0m \u001b[1m0s\u001b[0m 31ms/step\n",
            "                                Place_Name        City       Category  Rating\n",
            "3      Museum Benteng Vredeburg Yogyakarta  Yogyakarta         Budaya     4.6\n",
            "124                         Pantai Sanglen  Yogyakarta         Bahari     4.5\n",
            "25           Monumen Serangan Umum 1 Maret  Yogyakarta  Taman Hiburan     4.6\n",
            "64                               Goa Cerme  Yogyakarta     Cagar Alam     4.4\n",
            "47                 Air Terjun Kedung Pedut  Yogyakarta     Cagar Alam     4.5\n",
            "54   Puncak Gunung Api Purba - Nglanggeran  Yogyakarta     Cagar Alam     4.7\n",
            "91                    Museum Gunung Merapi  Yogyakarta         Budaya     4.4\n",
            "17                Monumen Batik Yogyakarta  Yogyakarta         Budaya     4.5\n",
            "109                        Pantai Wediombo  Yogyakarta         Bahari     4.5\n",
            "74                        Hutan Pinus Asri  Yogyakarta     Cagar Alam     4.5\n"
          ]
        }
      ]
    },
    {
      "cell_type": "markdown",
      "source": [
        "Model bisa berjalan dengan baik dengan memprediksi bahwa user akan menyukai tempat-tempat ini berdasarkan pola preferensi pengguna lain yang serupa."
      ],
      "metadata": {
        "id": "oAoeQveLCOI6"
      }
    }
  ]
}